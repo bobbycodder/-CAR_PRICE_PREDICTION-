{
 "cells": [
  {
   "cell_type": "markdown",
   "id": "46e21a28",
   "metadata": {},
   "source": [
    "# 🚗CAR_PRICE_PREDICTION🚗"
   ]
  },
  {
   "cell_type": "markdown",
   "id": "b881db44",
   "metadata": {},
   "source": [
    "<img src=\"https://encrypted-tbn0.gstatic.com/images?q=tbn:ANd9GcSWKcGGJHMv_aDZn-Uikz-R4ihg5bpTNscMSm-fVIYZAUA4sBonj1FjxOZtyCR3ZiW6_q0&usqp=CAU\" width=\"400\" height=\"200\">"
   ]
  },
  {
   "cell_type": "markdown",
   "id": "dd20159f",
   "metadata": {},
   "source": [
    "## PROBLEM_STATEMENT"
   ]
  },
  {
   "cell_type": "markdown",
   "id": "a1fce025",
   "metadata": {},
   "source": [
    "__A INDIAN automobile company Geely Auto aspires to enter the US market by setting up their manufacturing unit there and producing cars locally to give competition to their US and European counterparts.__\n",
    "\n",
    "__They have contracted an automobile consulting company to understand the factors on which the pricing of cars depends. Specifically, they want to understand the factors affecting the pricing of cars in the American market, since those may be very different from the Chinese market. The company wants to know:__\n",
    "\n",
    "__Which variables are significant in predicting the price of a car\n",
    "How well those variables describe the price of a car\n",
    "Based on various market surveys, the consulting firm has gathered a large data set of different types of cars across the America market.__"
   ]
  },
  {
   "cell_type": "markdown",
   "id": "6599c7af",
   "metadata": {},
   "source": [
    "## BUSINESS_GOAL"
   ]
  },
  {
   "cell_type": "markdown",
   "id": "6b9d28ca",
   "metadata": {},
   "source": [
    "__We are required to model the price of cars with the available independent variables. It will be used by the management to understand how exactly the prices vary with the independent variables. They can accordingly manipulate the design of the cars, the business strategy etc. to meet certain price levels. Further, the model will be a good way for management to understand the pricing dynamics of a new market.__"
   ]
  },
  {
   "cell_type": "markdown",
   "id": "b8d61bb7",
   "metadata": {},
   "source": [
    "## IMPORTING LIBRARIES"
   ]
  },
  {
   "cell_type": "code",
   "execution_count": 1,
   "id": "b6c71554",
   "metadata": {},
   "outputs": [],
   "source": [
    "import numpy as np\n",
    "import pandas as pd\n",
    "import seaborn as sns\n",
    "import matplotlib.pyplot as plt\n",
    "%matplotlib inline\n",
    "from sklearn.preprocessing import MinMaxScaler\n",
    "from sklearn.preprocessing import LabelEncoder\n",
    "from sklearn.feature_selection import RFE\n",
    "from sklearn.feature_selection import SelectKBest\n",
    "from sklearn.model_selection import train_test_split\n",
    "from sklearn.linear_model import LinearRegression\n",
    "from sklearn.metrics import r2_score\n",
    "import warnings\n",
    "warnings.filterwarnings('ignore')"
   ]
  },
  {
   "cell_type": "markdown",
   "id": "fc608d1a",
   "metadata": {},
   "source": [
    "## IMPORTING DATASET"
   ]
  },
  {
   "cell_type": "code",
   "execution_count": 2,
   "id": "06f7429c",
   "metadata": {},
   "outputs": [
    {
     "data": {
      "text/html": [
       "<div>\n",
       "<style scoped>\n",
       "    .dataframe tbody tr th:only-of-type {\n",
       "        vertical-align: middle;\n",
       "    }\n",
       "\n",
       "    .dataframe tbody tr th {\n",
       "        vertical-align: top;\n",
       "    }\n",
       "\n",
       "    .dataframe thead th {\n",
       "        text-align: right;\n",
       "    }\n",
       "</style>\n",
       "<table border=\"1\" class=\"dataframe\">\n",
       "  <thead>\n",
       "    <tr style=\"text-align: right;\">\n",
       "      <th></th>\n",
       "      <th>car_ID</th>\n",
       "      <th>symboling</th>\n",
       "      <th>CarName</th>\n",
       "      <th>fueltype</th>\n",
       "      <th>aspiration</th>\n",
       "      <th>doornumber</th>\n",
       "      <th>carbody</th>\n",
       "      <th>drivewheel</th>\n",
       "      <th>enginelocation</th>\n",
       "      <th>wheelbase</th>\n",
       "      <th>...</th>\n",
       "      <th>enginesize</th>\n",
       "      <th>fuelsystem</th>\n",
       "      <th>boreratio</th>\n",
       "      <th>stroke</th>\n",
       "      <th>compressionratio</th>\n",
       "      <th>horsepower</th>\n",
       "      <th>peakrpm</th>\n",
       "      <th>citympg</th>\n",
       "      <th>highwaympg</th>\n",
       "      <th>price</th>\n",
       "    </tr>\n",
       "  </thead>\n",
       "  <tbody>\n",
       "    <tr>\n",
       "      <th>0</th>\n",
       "      <td>1</td>\n",
       "      <td>3</td>\n",
       "      <td>alfa-romero giulia</td>\n",
       "      <td>gas</td>\n",
       "      <td>std</td>\n",
       "      <td>two</td>\n",
       "      <td>convertible</td>\n",
       "      <td>rwd</td>\n",
       "      <td>front</td>\n",
       "      <td>88.6</td>\n",
       "      <td>...</td>\n",
       "      <td>130</td>\n",
       "      <td>mpfi</td>\n",
       "      <td>3.47</td>\n",
       "      <td>2.68</td>\n",
       "      <td>9.0</td>\n",
       "      <td>111</td>\n",
       "      <td>5000</td>\n",
       "      <td>21</td>\n",
       "      <td>27</td>\n",
       "      <td>13495.0</td>\n",
       "    </tr>\n",
       "    <tr>\n",
       "      <th>1</th>\n",
       "      <td>2</td>\n",
       "      <td>3</td>\n",
       "      <td>alfa-romero stelvio</td>\n",
       "      <td>gas</td>\n",
       "      <td>std</td>\n",
       "      <td>two</td>\n",
       "      <td>convertible</td>\n",
       "      <td>rwd</td>\n",
       "      <td>front</td>\n",
       "      <td>88.6</td>\n",
       "      <td>...</td>\n",
       "      <td>130</td>\n",
       "      <td>mpfi</td>\n",
       "      <td>3.47</td>\n",
       "      <td>2.68</td>\n",
       "      <td>9.0</td>\n",
       "      <td>111</td>\n",
       "      <td>5000</td>\n",
       "      <td>21</td>\n",
       "      <td>27</td>\n",
       "      <td>16500.0</td>\n",
       "    </tr>\n",
       "    <tr>\n",
       "      <th>2</th>\n",
       "      <td>3</td>\n",
       "      <td>1</td>\n",
       "      <td>alfa-romero Quadrifoglio</td>\n",
       "      <td>gas</td>\n",
       "      <td>std</td>\n",
       "      <td>two</td>\n",
       "      <td>hatchback</td>\n",
       "      <td>rwd</td>\n",
       "      <td>front</td>\n",
       "      <td>94.5</td>\n",
       "      <td>...</td>\n",
       "      <td>152</td>\n",
       "      <td>mpfi</td>\n",
       "      <td>2.68</td>\n",
       "      <td>3.47</td>\n",
       "      <td>9.0</td>\n",
       "      <td>154</td>\n",
       "      <td>5000</td>\n",
       "      <td>19</td>\n",
       "      <td>26</td>\n",
       "      <td>16500.0</td>\n",
       "    </tr>\n",
       "    <tr>\n",
       "      <th>3</th>\n",
       "      <td>4</td>\n",
       "      <td>2</td>\n",
       "      <td>audi 100 ls</td>\n",
       "      <td>gas</td>\n",
       "      <td>std</td>\n",
       "      <td>four</td>\n",
       "      <td>sedan</td>\n",
       "      <td>fwd</td>\n",
       "      <td>front</td>\n",
       "      <td>99.8</td>\n",
       "      <td>...</td>\n",
       "      <td>109</td>\n",
       "      <td>mpfi</td>\n",
       "      <td>3.19</td>\n",
       "      <td>3.40</td>\n",
       "      <td>10.0</td>\n",
       "      <td>102</td>\n",
       "      <td>5500</td>\n",
       "      <td>24</td>\n",
       "      <td>30</td>\n",
       "      <td>13950.0</td>\n",
       "    </tr>\n",
       "    <tr>\n",
       "      <th>4</th>\n",
       "      <td>5</td>\n",
       "      <td>2</td>\n",
       "      <td>audi 100ls</td>\n",
       "      <td>gas</td>\n",
       "      <td>std</td>\n",
       "      <td>four</td>\n",
       "      <td>sedan</td>\n",
       "      <td>4wd</td>\n",
       "      <td>front</td>\n",
       "      <td>99.4</td>\n",
       "      <td>...</td>\n",
       "      <td>136</td>\n",
       "      <td>mpfi</td>\n",
       "      <td>3.19</td>\n",
       "      <td>3.40</td>\n",
       "      <td>8.0</td>\n",
       "      <td>115</td>\n",
       "      <td>5500</td>\n",
       "      <td>18</td>\n",
       "      <td>22</td>\n",
       "      <td>17450.0</td>\n",
       "    </tr>\n",
       "  </tbody>\n",
       "</table>\n",
       "<p>5 rows × 26 columns</p>\n",
       "</div>"
      ],
      "text/plain": [
       "   car_ID  symboling                   CarName fueltype aspiration doornumber  \\\n",
       "0       1          3        alfa-romero giulia      gas        std        two   \n",
       "1       2          3       alfa-romero stelvio      gas        std        two   \n",
       "2       3          1  alfa-romero Quadrifoglio      gas        std        two   \n",
       "3       4          2               audi 100 ls      gas        std       four   \n",
       "4       5          2                audi 100ls      gas        std       four   \n",
       "\n",
       "       carbody drivewheel enginelocation  wheelbase  ...  enginesize  \\\n",
       "0  convertible        rwd          front       88.6  ...         130   \n",
       "1  convertible        rwd          front       88.6  ...         130   \n",
       "2    hatchback        rwd          front       94.5  ...         152   \n",
       "3        sedan        fwd          front       99.8  ...         109   \n",
       "4        sedan        4wd          front       99.4  ...         136   \n",
       "\n",
       "   fuelsystem  boreratio  stroke compressionratio horsepower  peakrpm citympg  \\\n",
       "0        mpfi       3.47    2.68              9.0        111     5000      21   \n",
       "1        mpfi       3.47    2.68              9.0        111     5000      21   \n",
       "2        mpfi       2.68    3.47              9.0        154     5000      19   \n",
       "3        mpfi       3.19    3.40             10.0        102     5500      24   \n",
       "4        mpfi       3.19    3.40              8.0        115     5500      18   \n",
       "\n",
       "   highwaympg    price  \n",
       "0          27  13495.0  \n",
       "1          27  16500.0  \n",
       "2          26  16500.0  \n",
       "3          30  13950.0  \n",
       "4          22  17450.0  \n",
       "\n",
       "[5 rows x 26 columns]"
      ]
     },
     "execution_count": 2,
     "metadata": {},
     "output_type": "execute_result"
    }
   ],
   "source": [
    "data=pd.read_csv(\"CarPrice_Assignment.csv\")\n",
    "data.head()"
   ]
  },
  {
   "cell_type": "markdown",
   "id": "fb72460e",
   "metadata": {},
   "source": [
    "## DATA INSIGHT"
   ]
  },
  {
   "cell_type": "code",
   "execution_count": 3,
   "id": "ba77bb97",
   "metadata": {
    "scrolled": true
   },
   "outputs": [
    {
     "data": {
      "text/plain": [
       "Index(['car_ID', 'symboling', 'CarName', 'fueltype', 'aspiration',\n",
       "       'doornumber', 'carbody', 'drivewheel', 'enginelocation', 'wheelbase',\n",
       "       'carlength', 'carwidth', 'carheight', 'curbweight', 'enginetype',\n",
       "       'cylindernumber', 'enginesize', 'fuelsystem', 'boreratio', 'stroke',\n",
       "       'compressionratio', 'horsepower', 'peakrpm', 'citympg', 'highwaympg',\n",
       "       'price'],\n",
       "      dtype='object')"
      ]
     },
     "execution_count": 3,
     "metadata": {},
     "output_type": "execute_result"
    }
   ],
   "source": [
    "data.columns"
   ]
  },
  {
   "cell_type": "code",
   "execution_count": 4,
   "id": "77f7ae57",
   "metadata": {},
   "outputs": [
    {
     "data": {
      "text/plain": [
       "car_ID                int64\n",
       "symboling             int64\n",
       "CarName              object\n",
       "fueltype             object\n",
       "aspiration           object\n",
       "doornumber           object\n",
       "carbody              object\n",
       "drivewheel           object\n",
       "enginelocation       object\n",
       "wheelbase           float64\n",
       "carlength           float64\n",
       "carwidth            float64\n",
       "carheight           float64\n",
       "curbweight            int64\n",
       "enginetype           object\n",
       "cylindernumber       object\n",
       "enginesize            int64\n",
       "fuelsystem           object\n",
       "boreratio           float64\n",
       "stroke              float64\n",
       "compressionratio    float64\n",
       "horsepower            int64\n",
       "peakrpm               int64\n",
       "citympg               int64\n",
       "highwaympg            int64\n",
       "price               float64\n",
       "dtype: object"
      ]
     },
     "execution_count": 4,
     "metadata": {},
     "output_type": "execute_result"
    }
   ],
   "source": [
    "data.dtypes"
   ]
  },
  {
   "cell_type": "code",
   "execution_count": 5,
   "id": "104ca821",
   "metadata": {},
   "outputs": [
    {
     "data": {
      "text/html": [
       "<div>\n",
       "<style scoped>\n",
       "    .dataframe tbody tr th:only-of-type {\n",
       "        vertical-align: middle;\n",
       "    }\n",
       "\n",
       "    .dataframe tbody tr th {\n",
       "        vertical-align: top;\n",
       "    }\n",
       "\n",
       "    .dataframe thead th {\n",
       "        text-align: right;\n",
       "    }\n",
       "</style>\n",
       "<table border=\"1\" class=\"dataframe\">\n",
       "  <thead>\n",
       "    <tr style=\"text-align: right;\">\n",
       "      <th></th>\n",
       "      <th>car_ID</th>\n",
       "      <th>symboling</th>\n",
       "      <th>wheelbase</th>\n",
       "      <th>carlength</th>\n",
       "      <th>carwidth</th>\n",
       "      <th>carheight</th>\n",
       "      <th>curbweight</th>\n",
       "      <th>enginesize</th>\n",
       "      <th>boreratio</th>\n",
       "      <th>stroke</th>\n",
       "      <th>compressionratio</th>\n",
       "      <th>horsepower</th>\n",
       "      <th>peakrpm</th>\n",
       "      <th>citympg</th>\n",
       "      <th>highwaympg</th>\n",
       "      <th>price</th>\n",
       "    </tr>\n",
       "  </thead>\n",
       "  <tbody>\n",
       "    <tr>\n",
       "      <th>count</th>\n",
       "      <td>205.000000</td>\n",
       "      <td>205.000000</td>\n",
       "      <td>205.000000</td>\n",
       "      <td>205.000000</td>\n",
       "      <td>205.000000</td>\n",
       "      <td>205.000000</td>\n",
       "      <td>205.000000</td>\n",
       "      <td>205.000000</td>\n",
       "      <td>205.000000</td>\n",
       "      <td>205.000000</td>\n",
       "      <td>205.000000</td>\n",
       "      <td>205.000000</td>\n",
       "      <td>205.000000</td>\n",
       "      <td>205.000000</td>\n",
       "      <td>205.000000</td>\n",
       "      <td>205.000000</td>\n",
       "    </tr>\n",
       "    <tr>\n",
       "      <th>mean</th>\n",
       "      <td>103.000000</td>\n",
       "      <td>0.834146</td>\n",
       "      <td>98.756585</td>\n",
       "      <td>174.049268</td>\n",
       "      <td>65.907805</td>\n",
       "      <td>53.724878</td>\n",
       "      <td>2555.565854</td>\n",
       "      <td>126.907317</td>\n",
       "      <td>3.329756</td>\n",
       "      <td>3.255415</td>\n",
       "      <td>10.142537</td>\n",
       "      <td>104.117073</td>\n",
       "      <td>5125.121951</td>\n",
       "      <td>25.219512</td>\n",
       "      <td>30.751220</td>\n",
       "      <td>13276.710571</td>\n",
       "    </tr>\n",
       "    <tr>\n",
       "      <th>std</th>\n",
       "      <td>59.322565</td>\n",
       "      <td>1.245307</td>\n",
       "      <td>6.021776</td>\n",
       "      <td>12.337289</td>\n",
       "      <td>2.145204</td>\n",
       "      <td>2.443522</td>\n",
       "      <td>520.680204</td>\n",
       "      <td>41.642693</td>\n",
       "      <td>0.270844</td>\n",
       "      <td>0.313597</td>\n",
       "      <td>3.972040</td>\n",
       "      <td>39.544167</td>\n",
       "      <td>476.985643</td>\n",
       "      <td>6.542142</td>\n",
       "      <td>6.886443</td>\n",
       "      <td>7988.852332</td>\n",
       "    </tr>\n",
       "    <tr>\n",
       "      <th>min</th>\n",
       "      <td>1.000000</td>\n",
       "      <td>-2.000000</td>\n",
       "      <td>86.600000</td>\n",
       "      <td>141.100000</td>\n",
       "      <td>60.300000</td>\n",
       "      <td>47.800000</td>\n",
       "      <td>1488.000000</td>\n",
       "      <td>61.000000</td>\n",
       "      <td>2.540000</td>\n",
       "      <td>2.070000</td>\n",
       "      <td>7.000000</td>\n",
       "      <td>48.000000</td>\n",
       "      <td>4150.000000</td>\n",
       "      <td>13.000000</td>\n",
       "      <td>16.000000</td>\n",
       "      <td>5118.000000</td>\n",
       "    </tr>\n",
       "    <tr>\n",
       "      <th>25%</th>\n",
       "      <td>52.000000</td>\n",
       "      <td>0.000000</td>\n",
       "      <td>94.500000</td>\n",
       "      <td>166.300000</td>\n",
       "      <td>64.100000</td>\n",
       "      <td>52.000000</td>\n",
       "      <td>2145.000000</td>\n",
       "      <td>97.000000</td>\n",
       "      <td>3.150000</td>\n",
       "      <td>3.110000</td>\n",
       "      <td>8.600000</td>\n",
       "      <td>70.000000</td>\n",
       "      <td>4800.000000</td>\n",
       "      <td>19.000000</td>\n",
       "      <td>25.000000</td>\n",
       "      <td>7788.000000</td>\n",
       "    </tr>\n",
       "    <tr>\n",
       "      <th>50%</th>\n",
       "      <td>103.000000</td>\n",
       "      <td>1.000000</td>\n",
       "      <td>97.000000</td>\n",
       "      <td>173.200000</td>\n",
       "      <td>65.500000</td>\n",
       "      <td>54.100000</td>\n",
       "      <td>2414.000000</td>\n",
       "      <td>120.000000</td>\n",
       "      <td>3.310000</td>\n",
       "      <td>3.290000</td>\n",
       "      <td>9.000000</td>\n",
       "      <td>95.000000</td>\n",
       "      <td>5200.000000</td>\n",
       "      <td>24.000000</td>\n",
       "      <td>30.000000</td>\n",
       "      <td>10295.000000</td>\n",
       "    </tr>\n",
       "    <tr>\n",
       "      <th>75%</th>\n",
       "      <td>154.000000</td>\n",
       "      <td>2.000000</td>\n",
       "      <td>102.400000</td>\n",
       "      <td>183.100000</td>\n",
       "      <td>66.900000</td>\n",
       "      <td>55.500000</td>\n",
       "      <td>2935.000000</td>\n",
       "      <td>141.000000</td>\n",
       "      <td>3.580000</td>\n",
       "      <td>3.410000</td>\n",
       "      <td>9.400000</td>\n",
       "      <td>116.000000</td>\n",
       "      <td>5500.000000</td>\n",
       "      <td>30.000000</td>\n",
       "      <td>34.000000</td>\n",
       "      <td>16503.000000</td>\n",
       "    </tr>\n",
       "    <tr>\n",
       "      <th>max</th>\n",
       "      <td>205.000000</td>\n",
       "      <td>3.000000</td>\n",
       "      <td>120.900000</td>\n",
       "      <td>208.100000</td>\n",
       "      <td>72.300000</td>\n",
       "      <td>59.800000</td>\n",
       "      <td>4066.000000</td>\n",
       "      <td>326.000000</td>\n",
       "      <td>3.940000</td>\n",
       "      <td>4.170000</td>\n",
       "      <td>23.000000</td>\n",
       "      <td>288.000000</td>\n",
       "      <td>6600.000000</td>\n",
       "      <td>49.000000</td>\n",
       "      <td>54.000000</td>\n",
       "      <td>45400.000000</td>\n",
       "    </tr>\n",
       "  </tbody>\n",
       "</table>\n",
       "</div>"
      ],
      "text/plain": [
       "           car_ID   symboling   wheelbase   carlength    carwidth   carheight  \\\n",
       "count  205.000000  205.000000  205.000000  205.000000  205.000000  205.000000   \n",
       "mean   103.000000    0.834146   98.756585  174.049268   65.907805   53.724878   \n",
       "std     59.322565    1.245307    6.021776   12.337289    2.145204    2.443522   \n",
       "min      1.000000   -2.000000   86.600000  141.100000   60.300000   47.800000   \n",
       "25%     52.000000    0.000000   94.500000  166.300000   64.100000   52.000000   \n",
       "50%    103.000000    1.000000   97.000000  173.200000   65.500000   54.100000   \n",
       "75%    154.000000    2.000000  102.400000  183.100000   66.900000   55.500000   \n",
       "max    205.000000    3.000000  120.900000  208.100000   72.300000   59.800000   \n",
       "\n",
       "        curbweight  enginesize   boreratio      stroke  compressionratio  \\\n",
       "count   205.000000  205.000000  205.000000  205.000000        205.000000   \n",
       "mean   2555.565854  126.907317    3.329756    3.255415         10.142537   \n",
       "std     520.680204   41.642693    0.270844    0.313597          3.972040   \n",
       "min    1488.000000   61.000000    2.540000    2.070000          7.000000   \n",
       "25%    2145.000000   97.000000    3.150000    3.110000          8.600000   \n",
       "50%    2414.000000  120.000000    3.310000    3.290000          9.000000   \n",
       "75%    2935.000000  141.000000    3.580000    3.410000          9.400000   \n",
       "max    4066.000000  326.000000    3.940000    4.170000         23.000000   \n",
       "\n",
       "       horsepower      peakrpm     citympg  highwaympg         price  \n",
       "count  205.000000   205.000000  205.000000  205.000000    205.000000  \n",
       "mean   104.117073  5125.121951   25.219512   30.751220  13276.710571  \n",
       "std     39.544167   476.985643    6.542142    6.886443   7988.852332  \n",
       "min     48.000000  4150.000000   13.000000   16.000000   5118.000000  \n",
       "25%     70.000000  4800.000000   19.000000   25.000000   7788.000000  \n",
       "50%     95.000000  5200.000000   24.000000   30.000000  10295.000000  \n",
       "75%    116.000000  5500.000000   30.000000   34.000000  16503.000000  \n",
       "max    288.000000  6600.000000   49.000000   54.000000  45400.000000  "
      ]
     },
     "execution_count": 5,
     "metadata": {},
     "output_type": "execute_result"
    }
   ],
   "source": [
    "data.describe()"
   ]
  },
  {
   "cell_type": "code",
   "execution_count": 6,
   "id": "2bc370db",
   "metadata": {},
   "outputs": [
    {
     "name": "stdout",
     "output_type": "stream",
     "text": [
      "<class 'pandas.core.frame.DataFrame'>\n",
      "RangeIndex: 205 entries, 0 to 204\n",
      "Data columns (total 26 columns):\n",
      " #   Column            Non-Null Count  Dtype  \n",
      "---  ------            --------------  -----  \n",
      " 0   car_ID            205 non-null    int64  \n",
      " 1   symboling         205 non-null    int64  \n",
      " 2   CarName           205 non-null    object \n",
      " 3   fueltype          205 non-null    object \n",
      " 4   aspiration        205 non-null    object \n",
      " 5   doornumber        205 non-null    object \n",
      " 6   carbody           205 non-null    object \n",
      " 7   drivewheel        205 non-null    object \n",
      " 8   enginelocation    205 non-null    object \n",
      " 9   wheelbase         205 non-null    float64\n",
      " 10  carlength         205 non-null    float64\n",
      " 11  carwidth          205 non-null    float64\n",
      " 12  carheight         205 non-null    float64\n",
      " 13  curbweight        205 non-null    int64  \n",
      " 14  enginetype        205 non-null    object \n",
      " 15  cylindernumber    205 non-null    object \n",
      " 16  enginesize        205 non-null    int64  \n",
      " 17  fuelsystem        205 non-null    object \n",
      " 18  boreratio         205 non-null    float64\n",
      " 19  stroke            205 non-null    float64\n",
      " 20  compressionratio  205 non-null    float64\n",
      " 21  horsepower        205 non-null    int64  \n",
      " 22  peakrpm           205 non-null    int64  \n",
      " 23  citympg           205 non-null    int64  \n",
      " 24  highwaympg        205 non-null    int64  \n",
      " 25  price             205 non-null    float64\n",
      "dtypes: float64(8), int64(8), object(10)\n",
      "memory usage: 41.8+ KB\n"
     ]
    }
   ],
   "source": [
    "data.info()"
   ]
  },
  {
   "cell_type": "markdown",
   "id": "2d6cc249",
   "metadata": {},
   "source": [
    "## DESCRIBING DATA WITH OBJECT DATATYPE"
   ]
  },
  {
   "cell_type": "code",
   "execution_count": 7,
   "id": "2dee27d4",
   "metadata": {
    "scrolled": true
   },
   "outputs": [
    {
     "data": {
      "text/html": [
       "<div>\n",
       "<style scoped>\n",
       "    .dataframe tbody tr th:only-of-type {\n",
       "        vertical-align: middle;\n",
       "    }\n",
       "\n",
       "    .dataframe tbody tr th {\n",
       "        vertical-align: top;\n",
       "    }\n",
       "\n",
       "    .dataframe thead th {\n",
       "        text-align: right;\n",
       "    }\n",
       "</style>\n",
       "<table border=\"1\" class=\"dataframe\">\n",
       "  <thead>\n",
       "    <tr style=\"text-align: right;\">\n",
       "      <th></th>\n",
       "      <th>CarName</th>\n",
       "      <th>fueltype</th>\n",
       "      <th>aspiration</th>\n",
       "      <th>doornumber</th>\n",
       "      <th>carbody</th>\n",
       "      <th>drivewheel</th>\n",
       "      <th>enginelocation</th>\n",
       "      <th>enginetype</th>\n",
       "      <th>cylindernumber</th>\n",
       "      <th>fuelsystem</th>\n",
       "    </tr>\n",
       "  </thead>\n",
       "  <tbody>\n",
       "    <tr>\n",
       "      <th>count</th>\n",
       "      <td>205</td>\n",
       "      <td>205</td>\n",
       "      <td>205</td>\n",
       "      <td>205</td>\n",
       "      <td>205</td>\n",
       "      <td>205</td>\n",
       "      <td>205</td>\n",
       "      <td>205</td>\n",
       "      <td>205</td>\n",
       "      <td>205</td>\n",
       "    </tr>\n",
       "    <tr>\n",
       "      <th>unique</th>\n",
       "      <td>147</td>\n",
       "      <td>2</td>\n",
       "      <td>2</td>\n",
       "      <td>2</td>\n",
       "      <td>5</td>\n",
       "      <td>3</td>\n",
       "      <td>2</td>\n",
       "      <td>7</td>\n",
       "      <td>7</td>\n",
       "      <td>8</td>\n",
       "    </tr>\n",
       "    <tr>\n",
       "      <th>top</th>\n",
       "      <td>peugeot 504</td>\n",
       "      <td>gas</td>\n",
       "      <td>std</td>\n",
       "      <td>four</td>\n",
       "      <td>sedan</td>\n",
       "      <td>fwd</td>\n",
       "      <td>front</td>\n",
       "      <td>ohc</td>\n",
       "      <td>four</td>\n",
       "      <td>mpfi</td>\n",
       "    </tr>\n",
       "    <tr>\n",
       "      <th>freq</th>\n",
       "      <td>6</td>\n",
       "      <td>185</td>\n",
       "      <td>168</td>\n",
       "      <td>115</td>\n",
       "      <td>96</td>\n",
       "      <td>120</td>\n",
       "      <td>202</td>\n",
       "      <td>148</td>\n",
       "      <td>159</td>\n",
       "      <td>94</td>\n",
       "    </tr>\n",
       "  </tbody>\n",
       "</table>\n",
       "</div>"
      ],
      "text/plain": [
       "            CarName fueltype aspiration doornumber carbody drivewheel  \\\n",
       "count           205      205        205        205     205        205   \n",
       "unique          147        2          2          2       5          3   \n",
       "top     peugeot 504      gas        std       four   sedan        fwd   \n",
       "freq              6      185        168        115      96        120   \n",
       "\n",
       "       enginelocation enginetype cylindernumber fuelsystem  \n",
       "count             205        205            205        205  \n",
       "unique              2          7              7          8  \n",
       "top             front        ohc           four       mpfi  \n",
       "freq              202        148            159         94  "
      ]
     },
     "execution_count": 7,
     "metadata": {},
     "output_type": "execute_result"
    }
   ],
   "source": [
    "data.describe(include='object')"
   ]
  },
  {
   "cell_type": "code",
   "execution_count": 8,
   "id": "f2738a47",
   "metadata": {},
   "outputs": [
    {
     "data": {
      "text/plain": [
       "(205, 26)"
      ]
     },
     "execution_count": 8,
     "metadata": {},
     "output_type": "execute_result"
    }
   ],
   "source": [
    "data.shape"
   ]
  },
  {
   "cell_type": "markdown",
   "id": "d4002848",
   "metadata": {},
   "source": [
    "## CHEKCING NULL VALUES"
   ]
  },
  {
   "cell_type": "code",
   "execution_count": 9,
   "id": "7acf54a1",
   "metadata": {
    "scrolled": false
   },
   "outputs": [
    {
     "data": {
      "text/plain": [
       "car_ID              0\n",
       "symboling           0\n",
       "CarName             0\n",
       "fueltype            0\n",
       "aspiration          0\n",
       "doornumber          0\n",
       "carbody             0\n",
       "drivewheel          0\n",
       "enginelocation      0\n",
       "wheelbase           0\n",
       "carlength           0\n",
       "carwidth            0\n",
       "carheight           0\n",
       "curbweight          0\n",
       "enginetype          0\n",
       "cylindernumber      0\n",
       "enginesize          0\n",
       "fuelsystem          0\n",
       "boreratio           0\n",
       "stroke              0\n",
       "compressionratio    0\n",
       "horsepower          0\n",
       "peakrpm             0\n",
       "citympg             0\n",
       "highwaympg          0\n",
       "price               0\n",
       "dtype: int64"
      ]
     },
     "execution_count": 9,
     "metadata": {},
     "output_type": "execute_result"
    }
   ],
   "source": [
    "data.isnull().sum(\n",
    ")"
   ]
  },
  {
   "cell_type": "markdown",
   "id": "3451b598",
   "metadata": {},
   "source": [
    "__OUR DATASET NOT CONTAIN ANY NULL_VALUES__"
   ]
  },
  {
   "cell_type": "code",
   "execution_count": 10,
   "id": "625c223a",
   "metadata": {},
   "outputs": [
    {
     "data": {
      "text/html": [
       "<div>\n",
       "<style scoped>\n",
       "    .dataframe tbody tr th:only-of-type {\n",
       "        vertical-align: middle;\n",
       "    }\n",
       "\n",
       "    .dataframe tbody tr th {\n",
       "        vertical-align: top;\n",
       "    }\n",
       "\n",
       "    .dataframe thead th {\n",
       "        text-align: right;\n",
       "    }\n",
       "</style>\n",
       "<table border=\"1\" class=\"dataframe\">\n",
       "  <thead>\n",
       "    <tr style=\"text-align: right;\">\n",
       "      <th></th>\n",
       "      <th>car_ID</th>\n",
       "      <th>symboling</th>\n",
       "      <th>CarName</th>\n",
       "      <th>fueltype</th>\n",
       "      <th>aspiration</th>\n",
       "      <th>doornumber</th>\n",
       "      <th>carbody</th>\n",
       "      <th>drivewheel</th>\n",
       "      <th>enginelocation</th>\n",
       "      <th>wheelbase</th>\n",
       "      <th>...</th>\n",
       "      <th>enginesize</th>\n",
       "      <th>fuelsystem</th>\n",
       "      <th>boreratio</th>\n",
       "      <th>stroke</th>\n",
       "      <th>compressionratio</th>\n",
       "      <th>horsepower</th>\n",
       "      <th>peakrpm</th>\n",
       "      <th>citympg</th>\n",
       "      <th>highwaympg</th>\n",
       "      <th>price</th>\n",
       "    </tr>\n",
       "  </thead>\n",
       "  <tbody>\n",
       "    <tr>\n",
       "      <th>0</th>\n",
       "      <td>1</td>\n",
       "      <td>3</td>\n",
       "      <td>alfa-romero giulia</td>\n",
       "      <td>gas</td>\n",
       "      <td>std</td>\n",
       "      <td>two</td>\n",
       "      <td>convertible</td>\n",
       "      <td>rwd</td>\n",
       "      <td>front</td>\n",
       "      <td>88.6</td>\n",
       "      <td>...</td>\n",
       "      <td>130</td>\n",
       "      <td>mpfi</td>\n",
       "      <td>3.47</td>\n",
       "      <td>2.68</td>\n",
       "      <td>9.0</td>\n",
       "      <td>111</td>\n",
       "      <td>5000</td>\n",
       "      <td>21</td>\n",
       "      <td>27</td>\n",
       "      <td>13495.0</td>\n",
       "    </tr>\n",
       "  </tbody>\n",
       "</table>\n",
       "<p>1 rows × 26 columns</p>\n",
       "</div>"
      ],
      "text/plain": [
       "   car_ID  symboling             CarName fueltype aspiration doornumber  \\\n",
       "0       1          3  alfa-romero giulia      gas        std        two   \n",
       "\n",
       "       carbody drivewheel enginelocation  wheelbase  ...  enginesize  \\\n",
       "0  convertible        rwd          front       88.6  ...         130   \n",
       "\n",
       "   fuelsystem  boreratio  stroke compressionratio horsepower  peakrpm citympg  \\\n",
       "0        mpfi       3.47    2.68              9.0        111     5000      21   \n",
       "\n",
       "   highwaympg    price  \n",
       "0          27  13495.0  \n",
       "\n",
       "[1 rows x 26 columns]"
      ]
     },
     "execution_count": 10,
     "metadata": {},
     "output_type": "execute_result"
    }
   ],
   "source": [
    "data.head(1)"
   ]
  },
  {
   "cell_type": "markdown",
   "id": "420cc81b",
   "metadata": {},
   "source": [
    "__SPLITING THE C0MPANY_NAME AND ADDINGV AN ADDITIONAL COLUMN {CARANME} AND DROPING THE PAST COLUMN__"
   ]
  },
  {
   "cell_type": "code",
   "execution_count": 11,
   "id": "dfc7b8b2",
   "metadata": {},
   "outputs": [],
   "source": [
    "data[\"Company_name\"]=data['CarName'].apply(lambda x : x.split(' ')[0])\n",
    "data.drop(['CarName'],axis=1,inplace=True)"
   ]
  },
  {
   "cell_type": "code",
   "execution_count": 12,
   "id": "49aced4f",
   "metadata": {},
   "outputs": [
    {
     "data": {
      "text/html": [
       "<div>\n",
       "<style scoped>\n",
       "    .dataframe tbody tr th:only-of-type {\n",
       "        vertical-align: middle;\n",
       "    }\n",
       "\n",
       "    .dataframe tbody tr th {\n",
       "        vertical-align: top;\n",
       "    }\n",
       "\n",
       "    .dataframe thead th {\n",
       "        text-align: right;\n",
       "    }\n",
       "</style>\n",
       "<table border=\"1\" class=\"dataframe\">\n",
       "  <thead>\n",
       "    <tr style=\"text-align: right;\">\n",
       "      <th></th>\n",
       "      <th>car_ID</th>\n",
       "      <th>symboling</th>\n",
       "      <th>fueltype</th>\n",
       "      <th>aspiration</th>\n",
       "      <th>doornumber</th>\n",
       "      <th>carbody</th>\n",
       "      <th>drivewheel</th>\n",
       "      <th>enginelocation</th>\n",
       "      <th>wheelbase</th>\n",
       "      <th>carlength</th>\n",
       "      <th>...</th>\n",
       "      <th>fuelsystem</th>\n",
       "      <th>boreratio</th>\n",
       "      <th>stroke</th>\n",
       "      <th>compressionratio</th>\n",
       "      <th>horsepower</th>\n",
       "      <th>peakrpm</th>\n",
       "      <th>citympg</th>\n",
       "      <th>highwaympg</th>\n",
       "      <th>price</th>\n",
       "      <th>Company_name</th>\n",
       "    </tr>\n",
       "  </thead>\n",
       "  <tbody>\n",
       "    <tr>\n",
       "      <th>0</th>\n",
       "      <td>1</td>\n",
       "      <td>3</td>\n",
       "      <td>gas</td>\n",
       "      <td>std</td>\n",
       "      <td>two</td>\n",
       "      <td>convertible</td>\n",
       "      <td>rwd</td>\n",
       "      <td>front</td>\n",
       "      <td>88.6</td>\n",
       "      <td>168.8</td>\n",
       "      <td>...</td>\n",
       "      <td>mpfi</td>\n",
       "      <td>3.47</td>\n",
       "      <td>2.68</td>\n",
       "      <td>9.0</td>\n",
       "      <td>111</td>\n",
       "      <td>5000</td>\n",
       "      <td>21</td>\n",
       "      <td>27</td>\n",
       "      <td>13495.0</td>\n",
       "      <td>alfa-romero</td>\n",
       "    </tr>\n",
       "    <tr>\n",
       "      <th>1</th>\n",
       "      <td>2</td>\n",
       "      <td>3</td>\n",
       "      <td>gas</td>\n",
       "      <td>std</td>\n",
       "      <td>two</td>\n",
       "      <td>convertible</td>\n",
       "      <td>rwd</td>\n",
       "      <td>front</td>\n",
       "      <td>88.6</td>\n",
       "      <td>168.8</td>\n",
       "      <td>...</td>\n",
       "      <td>mpfi</td>\n",
       "      <td>3.47</td>\n",
       "      <td>2.68</td>\n",
       "      <td>9.0</td>\n",
       "      <td>111</td>\n",
       "      <td>5000</td>\n",
       "      <td>21</td>\n",
       "      <td>27</td>\n",
       "      <td>16500.0</td>\n",
       "      <td>alfa-romero</td>\n",
       "    </tr>\n",
       "    <tr>\n",
       "      <th>2</th>\n",
       "      <td>3</td>\n",
       "      <td>1</td>\n",
       "      <td>gas</td>\n",
       "      <td>std</td>\n",
       "      <td>two</td>\n",
       "      <td>hatchback</td>\n",
       "      <td>rwd</td>\n",
       "      <td>front</td>\n",
       "      <td>94.5</td>\n",
       "      <td>171.2</td>\n",
       "      <td>...</td>\n",
       "      <td>mpfi</td>\n",
       "      <td>2.68</td>\n",
       "      <td>3.47</td>\n",
       "      <td>9.0</td>\n",
       "      <td>154</td>\n",
       "      <td>5000</td>\n",
       "      <td>19</td>\n",
       "      <td>26</td>\n",
       "      <td>16500.0</td>\n",
       "      <td>alfa-romero</td>\n",
       "    </tr>\n",
       "    <tr>\n",
       "      <th>3</th>\n",
       "      <td>4</td>\n",
       "      <td>2</td>\n",
       "      <td>gas</td>\n",
       "      <td>std</td>\n",
       "      <td>four</td>\n",
       "      <td>sedan</td>\n",
       "      <td>fwd</td>\n",
       "      <td>front</td>\n",
       "      <td>99.8</td>\n",
       "      <td>176.6</td>\n",
       "      <td>...</td>\n",
       "      <td>mpfi</td>\n",
       "      <td>3.19</td>\n",
       "      <td>3.40</td>\n",
       "      <td>10.0</td>\n",
       "      <td>102</td>\n",
       "      <td>5500</td>\n",
       "      <td>24</td>\n",
       "      <td>30</td>\n",
       "      <td>13950.0</td>\n",
       "      <td>audi</td>\n",
       "    </tr>\n",
       "    <tr>\n",
       "      <th>4</th>\n",
       "      <td>5</td>\n",
       "      <td>2</td>\n",
       "      <td>gas</td>\n",
       "      <td>std</td>\n",
       "      <td>four</td>\n",
       "      <td>sedan</td>\n",
       "      <td>4wd</td>\n",
       "      <td>front</td>\n",
       "      <td>99.4</td>\n",
       "      <td>176.6</td>\n",
       "      <td>...</td>\n",
       "      <td>mpfi</td>\n",
       "      <td>3.19</td>\n",
       "      <td>3.40</td>\n",
       "      <td>8.0</td>\n",
       "      <td>115</td>\n",
       "      <td>5500</td>\n",
       "      <td>18</td>\n",
       "      <td>22</td>\n",
       "      <td>17450.0</td>\n",
       "      <td>audi</td>\n",
       "    </tr>\n",
       "  </tbody>\n",
       "</table>\n",
       "<p>5 rows × 26 columns</p>\n",
       "</div>"
      ],
      "text/plain": [
       "   car_ID  symboling fueltype aspiration doornumber      carbody drivewheel  \\\n",
       "0       1          3      gas        std        two  convertible        rwd   \n",
       "1       2          3      gas        std        two  convertible        rwd   \n",
       "2       3          1      gas        std        two    hatchback        rwd   \n",
       "3       4          2      gas        std       four        sedan        fwd   \n",
       "4       5          2      gas        std       four        sedan        4wd   \n",
       "\n",
       "  enginelocation  wheelbase  carlength  ...  fuelsystem  boreratio  stroke  \\\n",
       "0          front       88.6      168.8  ...        mpfi       3.47    2.68   \n",
       "1          front       88.6      168.8  ...        mpfi       3.47    2.68   \n",
       "2          front       94.5      171.2  ...        mpfi       2.68    3.47   \n",
       "3          front       99.8      176.6  ...        mpfi       3.19    3.40   \n",
       "4          front       99.4      176.6  ...        mpfi       3.19    3.40   \n",
       "\n",
       "  compressionratio horsepower  peakrpm citympg  highwaympg    price  \\\n",
       "0              9.0        111     5000      21          27  13495.0   \n",
       "1              9.0        111     5000      21          27  16500.0   \n",
       "2              9.0        154     5000      19          26  16500.0   \n",
       "3             10.0        102     5500      24          30  13950.0   \n",
       "4              8.0        115     5500      18          22  17450.0   \n",
       "\n",
       "   Company_name  \n",
       "0   alfa-romero  \n",
       "1   alfa-romero  \n",
       "2   alfa-romero  \n",
       "3          audi  \n",
       "4          audi  \n",
       "\n",
       "[5 rows x 26 columns]"
      ]
     },
     "execution_count": 12,
     "metadata": {},
     "output_type": "execute_result"
    }
   ],
   "source": [
    "data.head()"
   ]
  },
  {
   "cell_type": "code",
   "execution_count": 13,
   "id": "a06e794a",
   "metadata": {},
   "outputs": [
    {
     "data": {
      "text/plain": [
       "array(['alfa-romero', 'audi', 'bmw', 'chevrolet', 'dodge', 'honda',\n",
       "       'isuzu', 'jaguar', 'maxda', 'mazda', 'buick', 'mercury',\n",
       "       'mitsubishi', 'Nissan', 'nissan', 'peugeot', 'plymouth', 'porsche',\n",
       "       'porcshce', 'renault', 'saab', 'subaru', 'toyota', 'toyouta',\n",
       "       'vokswagen', 'volkswagen', 'vw', 'volvo'], dtype=object)"
      ]
     },
     "execution_count": 13,
     "metadata": {},
     "output_type": "execute_result"
    }
   ],
   "source": [
    "data[\"Company_name\"].unique()"
   ]
  },
  {
   "cell_type": "markdown",
   "id": "e1eab550",
   "metadata": {},
   "source": [
    "__MANYY OF THE COLUMNS HAVE DUPLIACTE NAME SO WE HAVE TO REPALCE THAT WITH SAME NAME__"
   ]
  },
  {
   "cell_type": "code",
   "execution_count": 14,
   "id": "872c809e",
   "metadata": {
    "scrolled": false
   },
   "outputs": [
    {
     "data": {
      "text/html": [
       "<div>\n",
       "<style scoped>\n",
       "    .dataframe tbody tr th:only-of-type {\n",
       "        vertical-align: middle;\n",
       "    }\n",
       "\n",
       "    .dataframe tbody tr th {\n",
       "        vertical-align: top;\n",
       "    }\n",
       "\n",
       "    .dataframe thead th {\n",
       "        text-align: right;\n",
       "    }\n",
       "</style>\n",
       "<table border=\"1\" class=\"dataframe\">\n",
       "  <thead>\n",
       "    <tr style=\"text-align: right;\">\n",
       "      <th></th>\n",
       "      <th>car_ID</th>\n",
       "      <th>symboling</th>\n",
       "      <th>fueltype</th>\n",
       "      <th>aspiration</th>\n",
       "      <th>doornumber</th>\n",
       "      <th>carbody</th>\n",
       "      <th>drivewheel</th>\n",
       "      <th>enginelocation</th>\n",
       "      <th>wheelbase</th>\n",
       "      <th>carlength</th>\n",
       "      <th>...</th>\n",
       "      <th>fuelsystem</th>\n",
       "      <th>boreratio</th>\n",
       "      <th>stroke</th>\n",
       "      <th>compressionratio</th>\n",
       "      <th>horsepower</th>\n",
       "      <th>peakrpm</th>\n",
       "      <th>citympg</th>\n",
       "      <th>highwaympg</th>\n",
       "      <th>price</th>\n",
       "      <th>Company_name</th>\n",
       "    </tr>\n",
       "  </thead>\n",
       "  <tbody>\n",
       "    <tr>\n",
       "      <th>50</th>\n",
       "      <td>51</td>\n",
       "      <td>1</td>\n",
       "      <td>gas</td>\n",
       "      <td>std</td>\n",
       "      <td>two</td>\n",
       "      <td>hatchback</td>\n",
       "      <td>fwd</td>\n",
       "      <td>front</td>\n",
       "      <td>93.1</td>\n",
       "      <td>159.1</td>\n",
       "      <td>...</td>\n",
       "      <td>2bbl</td>\n",
       "      <td>3.03</td>\n",
       "      <td>3.15</td>\n",
       "      <td>9.0</td>\n",
       "      <td>68</td>\n",
       "      <td>5000</td>\n",
       "      <td>30</td>\n",
       "      <td>31</td>\n",
       "      <td>5195.0</td>\n",
       "      <td>maxda</td>\n",
       "    </tr>\n",
       "    <tr>\n",
       "      <th>51</th>\n",
       "      <td>52</td>\n",
       "      <td>1</td>\n",
       "      <td>gas</td>\n",
       "      <td>std</td>\n",
       "      <td>two</td>\n",
       "      <td>hatchback</td>\n",
       "      <td>fwd</td>\n",
       "      <td>front</td>\n",
       "      <td>93.1</td>\n",
       "      <td>159.1</td>\n",
       "      <td>...</td>\n",
       "      <td>2bbl</td>\n",
       "      <td>3.03</td>\n",
       "      <td>3.15</td>\n",
       "      <td>9.0</td>\n",
       "      <td>68</td>\n",
       "      <td>5000</td>\n",
       "      <td>31</td>\n",
       "      <td>38</td>\n",
       "      <td>6095.0</td>\n",
       "      <td>maxda</td>\n",
       "    </tr>\n",
       "  </tbody>\n",
       "</table>\n",
       "<p>2 rows × 26 columns</p>\n",
       "</div>"
      ],
      "text/plain": [
       "    car_ID  symboling fueltype aspiration doornumber    carbody drivewheel  \\\n",
       "50      51          1      gas        std        two  hatchback        fwd   \n",
       "51      52          1      gas        std        two  hatchback        fwd   \n",
       "\n",
       "   enginelocation  wheelbase  carlength  ...  fuelsystem  boreratio  stroke  \\\n",
       "50          front       93.1      159.1  ...        2bbl       3.03    3.15   \n",
       "51          front       93.1      159.1  ...        2bbl       3.03    3.15   \n",
       "\n",
       "   compressionratio horsepower  peakrpm citympg  highwaympg   price  \\\n",
       "50              9.0         68     5000      30          31  5195.0   \n",
       "51              9.0         68     5000      31          38  6095.0   \n",
       "\n",
       "    Company_name  \n",
       "50         maxda  \n",
       "51         maxda  \n",
       "\n",
       "[2 rows x 26 columns]"
      ]
     },
     "execution_count": 14,
     "metadata": {},
     "output_type": "execute_result"
    }
   ],
   "source": [
    "data[data[\"Company_name\"]==\"maxda\"]"
   ]
  },
  {
   "cell_type": "markdown",
   "id": "0f003586",
   "metadata": {},
   "source": [
    "## MAKING FNX. TO DO SO"
   ]
  },
  {
   "cell_type": "code",
   "execution_count": 15,
   "id": "6ab5c4e4",
   "metadata": {},
   "outputs": [],
   "source": [
    "data[\"Company_name\"]=data[\"Company_name\"].str.lower()\n",
    "def change(a,b):\n",
    "    data[\"Company_name\"].replace(a,b,inplace=True)\n",
    "    \n",
    "change(\"maxda\",\"mazda\")"
   ]
  },
  {
   "cell_type": "code",
   "execution_count": 16,
   "id": "2d0a1802",
   "metadata": {},
   "outputs": [],
   "source": [
    "change('porcshce','porsche')\n",
    "change('toyouta','toyota')\n",
    "change('vokswagen','volkswagen')\n",
    "change('vw','volkswagen')"
   ]
  },
  {
   "cell_type": "code",
   "execution_count": 17,
   "id": "4ea2e073",
   "metadata": {},
   "outputs": [
    {
     "data": {
      "text/plain": [
       "array(['alfa-romero', 'audi', 'bmw', 'chevrolet', 'dodge', 'honda',\n",
       "       'isuzu', 'jaguar', 'mazda', 'buick', 'mercury', 'mitsubishi',\n",
       "       'nissan', 'peugeot', 'plymouth', 'porsche', 'renault', 'saab',\n",
       "       'subaru', 'toyota', 'volkswagen', 'volvo'], dtype=object)"
      ]
     },
     "execution_count": 17,
     "metadata": {},
     "output_type": "execute_result"
    }
   ],
   "source": [
    "data[\"Company_name\"].unique()"
   ]
  },
  {
   "cell_type": "markdown",
   "id": "665e5745",
   "metadata": {},
   "source": [
    "### CHECKING FOR DUPLICATE VALUES"
   ]
  },
  {
   "cell_type": "code",
   "execution_count": 18,
   "id": "ccde6037",
   "metadata": {
    "scrolled": true
   },
   "outputs": [
    {
     "data": {
      "text/html": [
       "<div>\n",
       "<style scoped>\n",
       "    .dataframe tbody tr th:only-of-type {\n",
       "        vertical-align: middle;\n",
       "    }\n",
       "\n",
       "    .dataframe tbody tr th {\n",
       "        vertical-align: top;\n",
       "    }\n",
       "\n",
       "    .dataframe thead th {\n",
       "        text-align: right;\n",
       "    }\n",
       "</style>\n",
       "<table border=\"1\" class=\"dataframe\">\n",
       "  <thead>\n",
       "    <tr style=\"text-align: right;\">\n",
       "      <th></th>\n",
       "      <th>car_ID</th>\n",
       "      <th>symboling</th>\n",
       "      <th>fueltype</th>\n",
       "      <th>aspiration</th>\n",
       "      <th>doornumber</th>\n",
       "      <th>carbody</th>\n",
       "      <th>drivewheel</th>\n",
       "      <th>enginelocation</th>\n",
       "      <th>wheelbase</th>\n",
       "      <th>carlength</th>\n",
       "      <th>...</th>\n",
       "      <th>fuelsystem</th>\n",
       "      <th>boreratio</th>\n",
       "      <th>stroke</th>\n",
       "      <th>compressionratio</th>\n",
       "      <th>horsepower</th>\n",
       "      <th>peakrpm</th>\n",
       "      <th>citympg</th>\n",
       "      <th>highwaympg</th>\n",
       "      <th>price</th>\n",
       "      <th>Company_name</th>\n",
       "    </tr>\n",
       "  </thead>\n",
       "  <tbody>\n",
       "  </tbody>\n",
       "</table>\n",
       "<p>0 rows × 26 columns</p>\n",
       "</div>"
      ],
      "text/plain": [
       "Empty DataFrame\n",
       "Columns: [car_ID, symboling, fueltype, aspiration, doornumber, carbody, drivewheel, enginelocation, wheelbase, carlength, carwidth, carheight, curbweight, enginetype, cylindernumber, enginesize, fuelsystem, boreratio, stroke, compressionratio, horsepower, peakrpm, citympg, highwaympg, price, Company_name]\n",
       "Index: []\n",
       "\n",
       "[0 rows x 26 columns]"
      ]
     },
     "execution_count": 18,
     "metadata": {},
     "output_type": "execute_result"
    }
   ],
   "source": [
    "data[data.duplicated()]"
   ]
  },
  {
   "cell_type": "code",
   "execution_count": 19,
   "id": "5b3dfbe6",
   "metadata": {},
   "outputs": [
    {
     "data": {
      "text/html": [
       "<div>\n",
       "<style scoped>\n",
       "    .dataframe tbody tr th:only-of-type {\n",
       "        vertical-align: middle;\n",
       "    }\n",
       "\n",
       "    .dataframe tbody tr th {\n",
       "        vertical-align: top;\n",
       "    }\n",
       "\n",
       "    .dataframe thead th {\n",
       "        text-align: right;\n",
       "    }\n",
       "</style>\n",
       "<table border=\"1\" class=\"dataframe\">\n",
       "  <thead>\n",
       "    <tr style=\"text-align: right;\">\n",
       "      <th></th>\n",
       "      <th>fueltype</th>\n",
       "      <th>aspiration</th>\n",
       "      <th>doornumber</th>\n",
       "      <th>carbody</th>\n",
       "      <th>drivewheel</th>\n",
       "      <th>enginelocation</th>\n",
       "      <th>enginetype</th>\n",
       "      <th>cylindernumber</th>\n",
       "      <th>fuelsystem</th>\n",
       "      <th>Company_name</th>\n",
       "    </tr>\n",
       "  </thead>\n",
       "  <tbody>\n",
       "    <tr>\n",
       "      <th>0</th>\n",
       "      <td>gas</td>\n",
       "      <td>std</td>\n",
       "      <td>two</td>\n",
       "      <td>convertible</td>\n",
       "      <td>rwd</td>\n",
       "      <td>front</td>\n",
       "      <td>dohc</td>\n",
       "      <td>four</td>\n",
       "      <td>mpfi</td>\n",
       "      <td>alfa-romero</td>\n",
       "    </tr>\n",
       "    <tr>\n",
       "      <th>1</th>\n",
       "      <td>gas</td>\n",
       "      <td>std</td>\n",
       "      <td>two</td>\n",
       "      <td>convertible</td>\n",
       "      <td>rwd</td>\n",
       "      <td>front</td>\n",
       "      <td>dohc</td>\n",
       "      <td>four</td>\n",
       "      <td>mpfi</td>\n",
       "      <td>alfa-romero</td>\n",
       "    </tr>\n",
       "    <tr>\n",
       "      <th>2</th>\n",
       "      <td>gas</td>\n",
       "      <td>std</td>\n",
       "      <td>two</td>\n",
       "      <td>hatchback</td>\n",
       "      <td>rwd</td>\n",
       "      <td>front</td>\n",
       "      <td>ohcv</td>\n",
       "      <td>six</td>\n",
       "      <td>mpfi</td>\n",
       "      <td>alfa-romero</td>\n",
       "    </tr>\n",
       "    <tr>\n",
       "      <th>3</th>\n",
       "      <td>gas</td>\n",
       "      <td>std</td>\n",
       "      <td>four</td>\n",
       "      <td>sedan</td>\n",
       "      <td>fwd</td>\n",
       "      <td>front</td>\n",
       "      <td>ohc</td>\n",
       "      <td>four</td>\n",
       "      <td>mpfi</td>\n",
       "      <td>audi</td>\n",
       "    </tr>\n",
       "    <tr>\n",
       "      <th>4</th>\n",
       "      <td>gas</td>\n",
       "      <td>std</td>\n",
       "      <td>four</td>\n",
       "      <td>sedan</td>\n",
       "      <td>4wd</td>\n",
       "      <td>front</td>\n",
       "      <td>ohc</td>\n",
       "      <td>five</td>\n",
       "      <td>mpfi</td>\n",
       "      <td>audi</td>\n",
       "    </tr>\n",
       "    <tr>\n",
       "      <th>5</th>\n",
       "      <td>gas</td>\n",
       "      <td>std</td>\n",
       "      <td>two</td>\n",
       "      <td>sedan</td>\n",
       "      <td>fwd</td>\n",
       "      <td>front</td>\n",
       "      <td>ohc</td>\n",
       "      <td>five</td>\n",
       "      <td>mpfi</td>\n",
       "      <td>audi</td>\n",
       "    </tr>\n",
       "    <tr>\n",
       "      <th>6</th>\n",
       "      <td>gas</td>\n",
       "      <td>std</td>\n",
       "      <td>four</td>\n",
       "      <td>sedan</td>\n",
       "      <td>fwd</td>\n",
       "      <td>front</td>\n",
       "      <td>ohc</td>\n",
       "      <td>five</td>\n",
       "      <td>mpfi</td>\n",
       "      <td>audi</td>\n",
       "    </tr>\n",
       "    <tr>\n",
       "      <th>7</th>\n",
       "      <td>gas</td>\n",
       "      <td>std</td>\n",
       "      <td>four</td>\n",
       "      <td>wagon</td>\n",
       "      <td>fwd</td>\n",
       "      <td>front</td>\n",
       "      <td>ohc</td>\n",
       "      <td>five</td>\n",
       "      <td>mpfi</td>\n",
       "      <td>audi</td>\n",
       "    </tr>\n",
       "    <tr>\n",
       "      <th>8</th>\n",
       "      <td>gas</td>\n",
       "      <td>turbo</td>\n",
       "      <td>four</td>\n",
       "      <td>sedan</td>\n",
       "      <td>fwd</td>\n",
       "      <td>front</td>\n",
       "      <td>ohc</td>\n",
       "      <td>five</td>\n",
       "      <td>mpfi</td>\n",
       "      <td>audi</td>\n",
       "    </tr>\n",
       "    <tr>\n",
       "      <th>9</th>\n",
       "      <td>gas</td>\n",
       "      <td>turbo</td>\n",
       "      <td>two</td>\n",
       "      <td>hatchback</td>\n",
       "      <td>4wd</td>\n",
       "      <td>front</td>\n",
       "      <td>ohc</td>\n",
       "      <td>five</td>\n",
       "      <td>mpfi</td>\n",
       "      <td>audi</td>\n",
       "    </tr>\n",
       "  </tbody>\n",
       "</table>\n",
       "</div>"
      ],
      "text/plain": [
       "  fueltype aspiration doornumber      carbody drivewheel enginelocation  \\\n",
       "0      gas        std        two  convertible        rwd          front   \n",
       "1      gas        std        two  convertible        rwd          front   \n",
       "2      gas        std        two    hatchback        rwd          front   \n",
       "3      gas        std       four        sedan        fwd          front   \n",
       "4      gas        std       four        sedan        4wd          front   \n",
       "5      gas        std        two        sedan        fwd          front   \n",
       "6      gas        std       four        sedan        fwd          front   \n",
       "7      gas        std       four        wagon        fwd          front   \n",
       "8      gas      turbo       four        sedan        fwd          front   \n",
       "9      gas      turbo        two    hatchback        4wd          front   \n",
       "\n",
       "  enginetype cylindernumber fuelsystem Company_name  \n",
       "0       dohc           four       mpfi  alfa-romero  \n",
       "1       dohc           four       mpfi  alfa-romero  \n",
       "2       ohcv            six       mpfi  alfa-romero  \n",
       "3        ohc           four       mpfi         audi  \n",
       "4        ohc           five       mpfi         audi  \n",
       "5        ohc           five       mpfi         audi  \n",
       "6        ohc           five       mpfi         audi  \n",
       "7        ohc           five       mpfi         audi  \n",
       "8        ohc           five       mpfi         audi  \n",
       "9        ohc           five       mpfi         audi  "
      ]
     },
     "execution_count": 19,
     "metadata": {},
     "output_type": "execute_result"
    }
   ],
   "source": [
    "data.loc[:,data.dtypes==\"object\"].head(10)"
   ]
  },
  {
   "cell_type": "markdown",
   "id": "c134b73b",
   "metadata": {},
   "source": [
    "# VISUALIZATING THE DATA"
   ]
  },
  {
   "cell_type": "markdown",
   "id": "6c700e8f",
   "metadata": {},
   "source": [
    "### DENSITY PLOT AND BOX PLOT"
   ]
  },
  {
   "cell_type": "code",
   "execution_count": 20,
   "id": "84d5ff26",
   "metadata": {
    "scrolled": true
   },
   "outputs": [
    {
     "data": {
      "image/png": "[encoded data removed]",
      "text/plain": [
       "<Figure size 432x288 with 1 Axes>"
      ]
     },
     "metadata": {
      "needs_background": "light"
     },
     "output_type": "display_data"
    }
   ],
   "source": [
    "sns.distplot(data.price)\n",
    "plt.title(\"Car Price Distribution Plot\")\n",
    "plt.show()"
   ]
  },
  {
   "cell_type": "code",
   "execution_count": 21,
   "id": "ba46f356",
   "metadata": {},
   "outputs": [
    {
     "data": {
      "image/png": "[encoded data removed]",
      "text/plain": [
       "<Figure size 432x288 with 1 Axes>"
      ]
     },
     "metadata": {
      "needs_background": "light"
     },
     "output_type": "display_data"
    }
   ],
   "source": [
    "sns.boxplot(data.price)\n",
    "plt.title(\"Car Price Spread\")\n",
    "plt.show()"
   ]
  },
  {
   "cell_type": "markdown",
   "id": "2976f7db",
   "metadata": {},
   "source": [
    "__Inference :__\n",
    "\n",
    "1.The plot seemed to be right-skewed, meaning that the most prices in the dataset are low(Below 15,000).\n",
    "\n",
    "2.There is a significant difference between the mean and the median of the price distribution.\n",
    "\n",
    "3.The data points are far spread out from the mean, which indicates a high variance in the car prices.(85% of the prices are below 18,500, whereas the remaining 15% are between 18,500 and 45,400.)"
   ]
  },
  {
   "cell_type": "code",
   "execution_count": 22,
   "id": "ae8593bf",
   "metadata": {},
   "outputs": [
    {
     "data": {
      "text/plain": [
       "count      205.000000\n",
       "mean     13276.710571\n",
       "std       7988.852332\n",
       "min       5118.000000\n",
       "25%       7788.000000\n",
       "50%      10295.000000\n",
       "75%      16503.000000\n",
       "max      45400.000000\n",
       "Name: price, dtype: float64"
      ]
     },
     "execution_count": 22,
     "metadata": {},
     "output_type": "execute_result"
    }
   ],
   "source": [
    "data.price.describe()"
   ]
  },
  {
   "cell_type": "code",
   "execution_count": 23,
   "id": "5197d9db",
   "metadata": {},
   "outputs": [
    {
     "data": {
      "text/html": [
       "<div>\n",
       "<style scoped>\n",
       "    .dataframe tbody tr th:only-of-type {\n",
       "        vertical-align: middle;\n",
       "    }\n",
       "\n",
       "    .dataframe tbody tr th {\n",
       "        vertical-align: top;\n",
       "    }\n",
       "\n",
       "    .dataframe thead th {\n",
       "        text-align: right;\n",
       "    }\n",
       "</style>\n",
       "<table border=\"1\" class=\"dataframe\">\n",
       "  <thead>\n",
       "    <tr style=\"text-align: right;\">\n",
       "      <th></th>\n",
       "      <th>car_ID</th>\n",
       "      <th>symboling</th>\n",
       "      <th>fueltype</th>\n",
       "      <th>aspiration</th>\n",
       "      <th>doornumber</th>\n",
       "      <th>carbody</th>\n",
       "      <th>drivewheel</th>\n",
       "      <th>enginelocation</th>\n",
       "      <th>wheelbase</th>\n",
       "      <th>carlength</th>\n",
       "      <th>...</th>\n",
       "      <th>fuelsystem</th>\n",
       "      <th>boreratio</th>\n",
       "      <th>stroke</th>\n",
       "      <th>compressionratio</th>\n",
       "      <th>horsepower</th>\n",
       "      <th>peakrpm</th>\n",
       "      <th>citympg</th>\n",
       "      <th>highwaympg</th>\n",
       "      <th>price</th>\n",
       "      <th>Company_name</th>\n",
       "    </tr>\n",
       "  </thead>\n",
       "  <tbody>\n",
       "    <tr>\n",
       "      <th>0</th>\n",
       "      <td>1</td>\n",
       "      <td>3</td>\n",
       "      <td>gas</td>\n",
       "      <td>std</td>\n",
       "      <td>two</td>\n",
       "      <td>convertible</td>\n",
       "      <td>rwd</td>\n",
       "      <td>front</td>\n",
       "      <td>88.6</td>\n",
       "      <td>168.8</td>\n",
       "      <td>...</td>\n",
       "      <td>mpfi</td>\n",
       "      <td>3.47</td>\n",
       "      <td>2.68</td>\n",
       "      <td>9.0</td>\n",
       "      <td>111</td>\n",
       "      <td>5000</td>\n",
       "      <td>21</td>\n",
       "      <td>27</td>\n",
       "      <td>13495.0</td>\n",
       "      <td>alfa-romero</td>\n",
       "    </tr>\n",
       "  </tbody>\n",
       "</table>\n",
       "<p>1 rows × 26 columns</p>\n",
       "</div>"
      ],
      "text/plain": [
       "   car_ID  symboling fueltype aspiration doornumber      carbody drivewheel  \\\n",
       "0       1          3      gas        std        two  convertible        rwd   \n",
       "\n",
       "  enginelocation  wheelbase  carlength  ...  fuelsystem  boreratio  stroke  \\\n",
       "0          front       88.6      168.8  ...        mpfi       3.47    2.68   \n",
       "\n",
       "  compressionratio horsepower  peakrpm citympg  highwaympg    price  \\\n",
       "0              9.0        111     5000      21          27  13495.0   \n",
       "\n",
       "   Company_name  \n",
       "0   alfa-romero  \n",
       "\n",
       "[1 rows x 26 columns]"
      ]
     },
     "execution_count": 23,
     "metadata": {},
     "output_type": "execute_result"
    }
   ],
   "source": [
    "data.head(1)"
   ]
  },
  {
   "cell_type": "markdown",
   "id": "d4e1acc9",
   "metadata": {},
   "source": [
    "### OTHER PLOT REGARDING DATA"
   ]
  },
  {
   "cell_type": "code",
   "execution_count": 24,
   "id": "53a04f1f",
   "metadata": {},
   "outputs": [
    {
     "data": {
      "image/png": "[encoded data removed]",
      "text/plain": [
       "<Figure size 1440x720 with 3 Axes>"
      ]
     },
     "metadata": {
      "needs_background": "light"
     },
     "output_type": "display_data"
    }
   ],
   "source": [
    "plt.figure(figsize=(20,10))\n",
    "    \n",
    "plt.subplot(1,3,1)\n",
    "plt1 = data.Company_name.value_counts().plot.bar()\n",
    "plt.title('Companies Histogram')\n",
    "plt1.set(xlabel = 'Car company', ylabel='Frequency of company')\n",
    "\n",
    "plt.subplot(1,3,2)\n",
    "plt1 = data.fueltype.value_counts().plot.bar()\n",
    "plt.title('Fuel Type Histogram')\n",
    "plt1.set(xlabel = 'Fuel Type', ylabel='Frequency of fuel type')\n",
    "\n",
    "plt.subplot(1,3,3)\n",
    "plt1 = data.carbody.value_counts().plot.bar()\n",
    "plt.title('Car Type Histogram')\n",
    "plt1.set(xlabel = 'Car Type', ylabel='Frequency of Car type')\n",
    "\n",
    "plt.show()"
   ]
  },
  {
   "cell_type": "markdown",
   "id": "83276f8e",
   "metadata": {},
   "source": [
    "__Inference :__\n",
    "\n",
    "Toyota seemed to be favored car company.\n",
    "\n",
    "Number of gas fueled cars are more than diesel.\n",
    "\n",
    "sedan is the top car type prefered."
   ]
  },
  {
   "cell_type": "code",
   "execution_count": 25,
   "id": "dd8c0d55",
   "metadata": {
    "scrolled": true
   },
   "outputs": [
    {
     "data": {
      "text/plain": [
       "array(['alfa-romero', 'audi', 'bmw', 'chevrolet', 'dodge', 'honda',\n",
       "       'isuzu', 'jaguar', 'mazda', 'buick', 'mercury', 'mitsubishi',\n",
       "       'nissan', 'peugeot', 'plymouth', 'porsche', 'renault', 'saab',\n",
       "       'subaru', 'toyota', 'volkswagen', 'volvo'], dtype=object)"
      ]
     },
     "execution_count": 25,
     "metadata": {},
     "output_type": "execute_result"
    }
   ],
   "source": [
    "data.Company_name.unique()"
   ]
  },
  {
   "cell_type": "markdown",
   "id": "0a3e8977",
   "metadata": {},
   "source": [
    "### COMPANY NAME WITH PRICES"
   ]
  },
  {
   "cell_type": "code",
   "execution_count": null,
   "id": "b7162e8f",
   "metadata": {
    "scrolled": true
   },
   "outputs": [],
   "source": [
    "import plotly.express as px\n",
    "px.line(data, y='price', color='Company_name', title=\"PRICE W.R.T CARS\", template =\"plotly_dark\")"
   ]
  },
  {
   "cell_type": "markdown",
   "id": "777096d9",
   "metadata": {},
   "source": [
    "## FUNCTION OF PLOTING "
   ]
  },
  {
   "cell_type": "markdown",
   "id": "09af22be",
   "metadata": {},
   "source": [
    "### HIST PLOT & BOX PLOT"
   ]
  },
  {
   "cell_type": "code",
   "execution_count": 27,
   "id": "d63f6393",
   "metadata": {},
   "outputs": [
    {
     "data": {
      "image/png": "[encoded data removed]",
      "text/plain": [
       "<Figure size 1080x360 with 2 Axes>"
      ]
     },
     "metadata": {
      "needs_background": "light"
     },
     "output_type": "display_data"
    },
    {
     "data": {
      "image/png": "[encoded data removed]",
      "text/plain": [
       "<Figure size 1080x360 with 2 Axes>"
      ]
     },
     "metadata": {
      "needs_background": "light"
     },
     "output_type": "display_data"
    }
   ],
   "source": [
    "plt.figure(figsize=(15,5))\n",
    "\n",
    "plt.subplot(1,2,1)\n",
    "plt.title('Door Number Histogram')\n",
    "sns.countplot(data.doornumber, palette=(\"viridis\"))\n",
    "\n",
    "plt.subplot(1,2,2)\n",
    "plt.title('Door Number vs Price')\n",
    "sns.boxplot(x=data.doornumber, y=data.price, palette=(\"cubehelix\"))\n",
    "\n",
    "plt.show()\n",
    "\n",
    "plt.figure(figsize=(15,5))\n",
    "\n",
    "plt.subplot(1,2,1)\n",
    "plt.title('Aspiration Histogram')\n",
    "sns.countplot(data.aspiration, palette=(\"magma\"))\n",
    "\n",
    "plt.subplot(1,2,2)\n",
    "plt.title('Aspiration vs Price')\n",
    "sns.boxplot(x=data.aspiration, y=data.price, palette=(\"plasma\"))\n",
    "\n",
    "plt.show()"
   ]
  },
  {
   "cell_type": "markdown",
   "id": "38370f18",
   "metadata": {},
   "source": [
    "__Inference :__\n",
    "\n",
    "1.doornumber variable is not affacting the price much. There is no sugnificant difference between the categories in it.\n",
    "\n",
    "2.It seems aspiration with turbo have higher price range than the std(though it has some high values outside the whiskers.)"
   ]
  },
  {
   "cell_type": "code",
   "execution_count": 28,
   "id": "a6903827",
   "metadata": {},
   "outputs": [],
   "source": [
    "\n",
    "\n",
    "\n",
    "def ploting_plot(x,fig):\n",
    "    plt.figure(figsize=(20,20))\n",
    "    plt.subplot(4,2,fig)\n",
    "    plt.title(x+' Histogram')\n",
    "    sns.countplot(data[x],palette=(\"viridis\"))\n",
    "    \n",
    "    plt.subplot(4,2,fig+1)\n",
    "    sns.boxplot(x=data[x],y=data.price,palette=\"viridis\")\n",
    "    plt.title(x+' vs Price')\n",
    "    plt.show()"
   ]
  },
  {
   "cell_type": "code",
   "execution_count": 29,
   "id": "9ef653a1",
   "metadata": {},
   "outputs": [
    {
     "data": {
      "image/png": "[encoded data removed]",
      "text/plain": [
       "<Figure size 1440x1440 with 2 Axes>"
      ]
     },
     "metadata": {
      "needs_background": "light"
     },
     "output_type": "display_data"
    },
    {
     "data": {
      "image/png": "[encoded data removed]",
      "text/plain": [
       "<Figure size 1440x1440 with 2 Axes>"
      ]
     },
     "metadata": {
      "needs_background": "light"
     },
     "output_type": "display_data"
    },
    {
     "data": {
      "image/png": "[encoded data removed]",
      "text/plain": [
       "<Figure size 1440x1440 with 2 Axes>"
      ]
     },
     "metadata": {
      "needs_background": "light"
     },
     "output_type": "display_data"
    },
    {
     "data": {
      "image/png": "[encoded data removed]",
      "text/plain": [
       "<Figure size 1440x1440 with 2 Axes>"
      ]
     },
     "metadata": {
      "needs_background": "light"
     },
     "output_type": "display_data"
    }
   ],
   "source": [
    "ploting_plot('enginelocation',1)\n",
    "ploting_plot('cylindernumber',3)\n",
    "ploting_plot('fuelsystem',5)\n",
    "ploting_plot('drivewheel',7)"
   ]
  },
  {
   "cell_type": "markdown",
   "id": "15d521a6",
   "metadata": {},
   "source": [
    "__Inference :__\n",
    "\n",
    "1.Very few datapoints for enginelocation categories to make an inference.\n",
    "\n",
    "2.Most common number of cylinders are four, six and five. Though eight cylinders have the highest price range.\n",
    "\n",
    "3.mpfi and 2bbl are most common type of fuel systems. mpfi and idi having the highest price range. But there are few data for\n",
    "\n",
    "4.other categories to derive any meaningful inference\n",
    "\n",
    "5.A very significant difference in drivewheel category. Most high ranged cars seeme to prefer rwd drivewheel."
   ]
  },
  {
   "cell_type": "markdown",
   "id": "f8c27a05",
   "metadata": {},
   "source": [
    "### SCATTER PLOT "
   ]
  },
  {
   "cell_type": "code",
   "execution_count": 30,
   "id": "8d312ff7",
   "metadata": {},
   "outputs": [],
   "source": [
    "def sct_plot(y,fig):\n",
    "    plt.figure(figsize=(10,10))\n",
    "    plt.subplot(2,2,fig)\n",
    "    plt.scatter(data[y],data['price'])\n",
    "    plt.title(y +' vs Price')\n",
    "    plt.ylabel('Price')\n",
    "    plt.xlabel(y)\n",
    "    plt.show()"
   ]
  },
  {
   "cell_type": "code",
   "execution_count": 31,
   "id": "c537cf41",
   "metadata": {},
   "outputs": [
    {
     "data": {
      "image/png": "[encoded data removed]",
      "text/plain": [
       "<Figure size 720x720 with 1 Axes>"
      ]
     },
     "metadata": {
      "needs_background": "light"
     },
     "output_type": "display_data"
    },
    {
     "data": {
      "image/png": "[encoded data removed]",
      "text/plain": [
       "<Figure size 720x720 with 1 Axes>"
      ]
     },
     "metadata": {
      "needs_background": "light"
     },
     "output_type": "display_data"
    }
   ],
   "source": [
    "sct_plot('carlength',1)\n",
    "sct_plot('carwidth', 2)"
   ]
  },
  {
   "cell_type": "code",
   "execution_count": 32,
   "id": "69542c3a",
   "metadata": {
    "scrolled": true
   },
   "outputs": [
    {
     "data": {
      "image/png": "[encoded data removed]",
      "text/plain": [
       "<Figure size 720x720 with 1 Axes>"
      ]
     },
     "metadata": {
      "needs_background": "light"
     },
     "output_type": "display_data"
    },
    {
     "data": {
      "image/png": "[encoded data removed]",
      "text/plain": [
       "<Figure size 720x720 with 1 Axes>"
      ]
     },
     "metadata": {
      "needs_background": "light"
     },
     "output_type": "display_data"
    }
   ],
   "source": [
    "sct_plot('carheight', 3)\n",
    "sct_plot('curbweight', 4)"
   ]
  },
  {
   "cell_type": "markdown",
   "id": "7eda2ff2",
   "metadata": {},
   "source": [
    "__Inference :__\n",
    "\n",
    "1.carwidth, carlength and curbweight seems to have a poitive correlation with price.\n",
    "\n",
    "2.carheight doesn't show any significant trend with price."
   ]
  },
  {
   "cell_type": "markdown",
   "id": "6ed4b549",
   "metadata": {},
   "source": [
    "### DEFINING CORRELATION"
   ]
  },
  {
   "cell_type": "code",
   "execution_count": 33,
   "id": "ca138db8",
   "metadata": {
    "scrolled": true
   },
   "outputs": [
    {
     "data": {
      "text/html": [
       "<div>\n",
       "<style scoped>\n",
       "    .dataframe tbody tr th:only-of-type {\n",
       "        vertical-align: middle;\n",
       "    }\n",
       "\n",
       "    .dataframe tbody tr th {\n",
       "        vertical-align: top;\n",
       "    }\n",
       "\n",
       "    .dataframe thead th {\n",
       "        text-align: right;\n",
       "    }\n",
       "</style>\n",
       "<table border=\"1\" class=\"dataframe\">\n",
       "  <thead>\n",
       "    <tr style=\"text-align: right;\">\n",
       "      <th></th>\n",
       "      <th>car_ID</th>\n",
       "      <th>symboling</th>\n",
       "      <th>wheelbase</th>\n",
       "      <th>carlength</th>\n",
       "      <th>carwidth</th>\n",
       "      <th>carheight</th>\n",
       "      <th>curbweight</th>\n",
       "      <th>enginesize</th>\n",
       "      <th>boreratio</th>\n",
       "      <th>stroke</th>\n",
       "      <th>compressionratio</th>\n",
       "      <th>horsepower</th>\n",
       "      <th>peakrpm</th>\n",
       "      <th>citympg</th>\n",
       "      <th>highwaympg</th>\n",
       "      <th>price</th>\n",
       "    </tr>\n",
       "  </thead>\n",
       "  <tbody>\n",
       "    <tr>\n",
       "      <th>car_ID</th>\n",
       "      <td>1.000000</td>\n",
       "      <td>-0.151621</td>\n",
       "      <td>0.129729</td>\n",
       "      <td>0.170636</td>\n",
       "      <td>0.052387</td>\n",
       "      <td>0.255960</td>\n",
       "      <td>0.071962</td>\n",
       "      <td>-0.033930</td>\n",
       "      <td>0.260064</td>\n",
       "      <td>-0.160824</td>\n",
       "      <td>0.150276</td>\n",
       "      <td>-0.015006</td>\n",
       "      <td>-0.203789</td>\n",
       "      <td>0.015940</td>\n",
       "      <td>0.011255</td>\n",
       "      <td>-0.109093</td>\n",
       "    </tr>\n",
       "    <tr>\n",
       "      <th>symboling</th>\n",
       "      <td>-0.151621</td>\n",
       "      <td>1.000000</td>\n",
       "      <td>-0.531954</td>\n",
       "      <td>-0.357612</td>\n",
       "      <td>-0.232919</td>\n",
       "      <td>-0.541038</td>\n",
       "      <td>-0.227691</td>\n",
       "      <td>-0.105790</td>\n",
       "      <td>-0.130051</td>\n",
       "      <td>-0.008735</td>\n",
       "      <td>-0.178515</td>\n",
       "      <td>0.070873</td>\n",
       "      <td>0.273606</td>\n",
       "      <td>-0.035823</td>\n",
       "      <td>0.034606</td>\n",
       "      <td>-0.079978</td>\n",
       "    </tr>\n",
       "    <tr>\n",
       "      <th>wheelbase</th>\n",
       "      <td>0.129729</td>\n",
       "      <td>-0.531954</td>\n",
       "      <td>1.000000</td>\n",
       "      <td>0.874587</td>\n",
       "      <td>0.795144</td>\n",
       "      <td>0.589435</td>\n",
       "      <td>0.776386</td>\n",
       "      <td>0.569329</td>\n",
       "      <td>0.488750</td>\n",
       "      <td>0.160959</td>\n",
       "      <td>0.249786</td>\n",
       "      <td>0.353294</td>\n",
       "      <td>-0.360469</td>\n",
       "      <td>-0.470414</td>\n",
       "      <td>-0.544082</td>\n",
       "      <td>0.577816</td>\n",
       "    </tr>\n",
       "    <tr>\n",
       "      <th>carlength</th>\n",
       "      <td>0.170636</td>\n",
       "      <td>-0.357612</td>\n",
       "      <td>0.874587</td>\n",
       "      <td>1.000000</td>\n",
       "      <td>0.841118</td>\n",
       "      <td>0.491029</td>\n",
       "      <td>0.877728</td>\n",
       "      <td>0.683360</td>\n",
       "      <td>0.606454</td>\n",
       "      <td>0.129533</td>\n",
       "      <td>0.158414</td>\n",
       "      <td>0.552623</td>\n",
       "      <td>-0.287242</td>\n",
       "      <td>-0.670909</td>\n",
       "      <td>-0.704662</td>\n",
       "      <td>0.682920</td>\n",
       "    </tr>\n",
       "    <tr>\n",
       "      <th>carwidth</th>\n",
       "      <td>0.052387</td>\n",
       "      <td>-0.232919</td>\n",
       "      <td>0.795144</td>\n",
       "      <td>0.841118</td>\n",
       "      <td>1.000000</td>\n",
       "      <td>0.279210</td>\n",
       "      <td>0.867032</td>\n",
       "      <td>0.735433</td>\n",
       "      <td>0.559150</td>\n",
       "      <td>0.182942</td>\n",
       "      <td>0.181129</td>\n",
       "      <td>0.640732</td>\n",
       "      <td>-0.220012</td>\n",
       "      <td>-0.642704</td>\n",
       "      <td>-0.677218</td>\n",
       "      <td>0.759325</td>\n",
       "    </tr>\n",
       "    <tr>\n",
       "      <th>carheight</th>\n",
       "      <td>0.255960</td>\n",
       "      <td>-0.541038</td>\n",
       "      <td>0.589435</td>\n",
       "      <td>0.491029</td>\n",
       "      <td>0.279210</td>\n",
       "      <td>1.000000</td>\n",
       "      <td>0.295572</td>\n",
       "      <td>0.067149</td>\n",
       "      <td>0.171071</td>\n",
       "      <td>-0.055307</td>\n",
       "      <td>0.261214</td>\n",
       "      <td>-0.108802</td>\n",
       "      <td>-0.320411</td>\n",
       "      <td>-0.048640</td>\n",
       "      <td>-0.107358</td>\n",
       "      <td>0.119336</td>\n",
       "    </tr>\n",
       "    <tr>\n",
       "      <th>curbweight</th>\n",
       "      <td>0.071962</td>\n",
       "      <td>-0.227691</td>\n",
       "      <td>0.776386</td>\n",
       "      <td>0.877728</td>\n",
       "      <td>0.867032</td>\n",
       "      <td>0.295572</td>\n",
       "      <td>1.000000</td>\n",
       "      <td>0.850594</td>\n",
       "      <td>0.648480</td>\n",
       "      <td>0.168790</td>\n",
       "      <td>0.151362</td>\n",
       "      <td>0.750739</td>\n",
       "      <td>-0.266243</td>\n",
       "      <td>-0.757414</td>\n",
       "      <td>-0.797465</td>\n",
       "      <td>0.835305</td>\n",
       "    </tr>\n",
       "    <tr>\n",
       "      <th>enginesize</th>\n",
       "      <td>-0.033930</td>\n",
       "      <td>-0.105790</td>\n",
       "      <td>0.569329</td>\n",
       "      <td>0.683360</td>\n",
       "      <td>0.735433</td>\n",
       "      <td>0.067149</td>\n",
       "      <td>0.850594</td>\n",
       "      <td>1.000000</td>\n",
       "      <td>0.583774</td>\n",
       "      <td>0.203129</td>\n",
       "      <td>0.028971</td>\n",
       "      <td>0.809769</td>\n",
       "      <td>-0.244660</td>\n",
       "      <td>-0.653658</td>\n",
       "      <td>-0.677470</td>\n",
       "      <td>0.874145</td>\n",
       "    </tr>\n",
       "    <tr>\n",
       "      <th>boreratio</th>\n",
       "      <td>0.260064</td>\n",
       "      <td>-0.130051</td>\n",
       "      <td>0.488750</td>\n",
       "      <td>0.606454</td>\n",
       "      <td>0.559150</td>\n",
       "      <td>0.171071</td>\n",
       "      <td>0.648480</td>\n",
       "      <td>0.583774</td>\n",
       "      <td>1.000000</td>\n",
       "      <td>-0.055909</td>\n",
       "      <td>0.005197</td>\n",
       "      <td>0.573677</td>\n",
       "      <td>-0.254976</td>\n",
       "      <td>-0.584532</td>\n",
       "      <td>-0.587012</td>\n",
       "      <td>0.553173</td>\n",
       "    </tr>\n",
       "    <tr>\n",
       "      <th>stroke</th>\n",
       "      <td>-0.160824</td>\n",
       "      <td>-0.008735</td>\n",
       "      <td>0.160959</td>\n",
       "      <td>0.129533</td>\n",
       "      <td>0.182942</td>\n",
       "      <td>-0.055307</td>\n",
       "      <td>0.168790</td>\n",
       "      <td>0.203129</td>\n",
       "      <td>-0.055909</td>\n",
       "      <td>1.000000</td>\n",
       "      <td>0.186110</td>\n",
       "      <td>0.080940</td>\n",
       "      <td>-0.067964</td>\n",
       "      <td>-0.042145</td>\n",
       "      <td>-0.043931</td>\n",
       "      <td>0.079443</td>\n",
       "    </tr>\n",
       "    <tr>\n",
       "      <th>compressionratio</th>\n",
       "      <td>0.150276</td>\n",
       "      <td>-0.178515</td>\n",
       "      <td>0.249786</td>\n",
       "      <td>0.158414</td>\n",
       "      <td>0.181129</td>\n",
       "      <td>0.261214</td>\n",
       "      <td>0.151362</td>\n",
       "      <td>0.028971</td>\n",
       "      <td>0.005197</td>\n",
       "      <td>0.186110</td>\n",
       "      <td>1.000000</td>\n",
       "      <td>-0.204326</td>\n",
       "      <td>-0.435741</td>\n",
       "      <td>0.324701</td>\n",
       "      <td>0.265201</td>\n",
       "      <td>0.067984</td>\n",
       "    </tr>\n",
       "    <tr>\n",
       "      <th>horsepower</th>\n",
       "      <td>-0.015006</td>\n",
       "      <td>0.070873</td>\n",
       "      <td>0.353294</td>\n",
       "      <td>0.552623</td>\n",
       "      <td>0.640732</td>\n",
       "      <td>-0.108802</td>\n",
       "      <td>0.750739</td>\n",
       "      <td>0.809769</td>\n",
       "      <td>0.573677</td>\n",
       "      <td>0.080940</td>\n",
       "      <td>-0.204326</td>\n",
       "      <td>1.000000</td>\n",
       "      <td>0.131073</td>\n",
       "      <td>-0.801456</td>\n",
       "      <td>-0.770544</td>\n",
       "      <td>0.808139</td>\n",
       "    </tr>\n",
       "    <tr>\n",
       "      <th>peakrpm</th>\n",
       "      <td>-0.203789</td>\n",
       "      <td>0.273606</td>\n",
       "      <td>-0.360469</td>\n",
       "      <td>-0.287242</td>\n",
       "      <td>-0.220012</td>\n",
       "      <td>-0.320411</td>\n",
       "      <td>-0.266243</td>\n",
       "      <td>-0.244660</td>\n",
       "      <td>-0.254976</td>\n",
       "      <td>-0.067964</td>\n",
       "      <td>-0.435741</td>\n",
       "      <td>0.131073</td>\n",
       "      <td>1.000000</td>\n",
       "      <td>-0.113544</td>\n",
       "      <td>-0.054275</td>\n",
       "      <td>-0.085267</td>\n",
       "    </tr>\n",
       "    <tr>\n",
       "      <th>citympg</th>\n",
       "      <td>0.015940</td>\n",
       "      <td>-0.035823</td>\n",
       "      <td>-0.470414</td>\n",
       "      <td>-0.670909</td>\n",
       "      <td>-0.642704</td>\n",
       "      <td>-0.048640</td>\n",
       "      <td>-0.757414</td>\n",
       "      <td>-0.653658</td>\n",
       "      <td>-0.584532</td>\n",
       "      <td>-0.042145</td>\n",
       "      <td>0.324701</td>\n",
       "      <td>-0.801456</td>\n",
       "      <td>-0.113544</td>\n",
       "      <td>1.000000</td>\n",
       "      <td>0.971337</td>\n",
       "      <td>-0.685751</td>\n",
       "    </tr>\n",
       "    <tr>\n",
       "      <th>highwaympg</th>\n",
       "      <td>0.011255</td>\n",
       "      <td>0.034606</td>\n",
       "      <td>-0.544082</td>\n",
       "      <td>-0.704662</td>\n",
       "      <td>-0.677218</td>\n",
       "      <td>-0.107358</td>\n",
       "      <td>-0.797465</td>\n",
       "      <td>-0.677470</td>\n",
       "      <td>-0.587012</td>\n",
       "      <td>-0.043931</td>\n",
       "      <td>0.265201</td>\n",
       "      <td>-0.770544</td>\n",
       "      <td>-0.054275</td>\n",
       "      <td>0.971337</td>\n",
       "      <td>1.000000</td>\n",
       "      <td>-0.697599</td>\n",
       "    </tr>\n",
       "    <tr>\n",
       "      <th>price</th>\n",
       "      <td>-0.109093</td>\n",
       "      <td>-0.079978</td>\n",
       "      <td>0.577816</td>\n",
       "      <td>0.682920</td>\n",
       "      <td>0.759325</td>\n",
       "      <td>0.119336</td>\n",
       "      <td>0.835305</td>\n",
       "      <td>0.874145</td>\n",
       "      <td>0.553173</td>\n",
       "      <td>0.079443</td>\n",
       "      <td>0.067984</td>\n",
       "      <td>0.808139</td>\n",
       "      <td>-0.085267</td>\n",
       "      <td>-0.685751</td>\n",
       "      <td>-0.697599</td>\n",
       "      <td>1.000000</td>\n",
       "    </tr>\n",
       "  </tbody>\n",
       "</table>\n",
       "</div>"
      ],
      "text/plain": [
       "                    car_ID  symboling  wheelbase  carlength  carwidth  \\\n",
       "car_ID            1.000000  -0.151621   0.129729   0.170636  0.052387   \n",
       "symboling        -0.151621   1.000000  -0.531954  -0.357612 -0.232919   \n",
       "wheelbase         0.129729  -0.531954   1.000000   0.874587  0.795144   \n",
       "carlength         0.170636  -0.357612   0.874587   1.000000  0.841118   \n",
       "carwidth          0.052387  -0.232919   0.795144   0.841118  1.000000   \n",
       "carheight         0.255960  -0.541038   0.589435   0.491029  0.279210   \n",
       "curbweight        0.071962  -0.227691   0.776386   0.877728  0.867032   \n",
       "enginesize       -0.033930  -0.105790   0.569329   0.683360  0.735433   \n",
       "boreratio         0.260064  -0.130051   0.488750   0.606454  0.559150   \n",
       "stroke           -0.160824  -0.008735   0.160959   0.129533  0.182942   \n",
       "compressionratio  0.150276  -0.178515   0.249786   0.158414  0.181129   \n",
       "horsepower       -0.015006   0.070873   0.353294   0.552623  0.640732   \n",
       "peakrpm          -0.203789   0.273606  -0.360469  -0.287242 -0.220012   \n",
       "citympg           0.015940  -0.035823  -0.470414  -0.670909 -0.642704   \n",
       "highwaympg        0.011255   0.034606  -0.544082  -0.704662 -0.677218   \n",
       "price            -0.109093  -0.079978   0.577816   0.682920  0.759325   \n",
       "\n",
       "                  carheight  curbweight  enginesize  boreratio    stroke  \\\n",
       "car_ID             0.255960    0.071962   -0.033930   0.260064 -0.160824   \n",
       "symboling         -0.541038   -0.227691   -0.105790  -0.130051 -0.008735   \n",
       "wheelbase          0.589435    0.776386    0.569329   0.488750  0.160959   \n",
       "carlength          0.491029    0.877728    0.683360   0.606454  0.129533   \n",
       "carwidth           0.279210    0.867032    0.735433   0.559150  0.182942   \n",
       "carheight          1.000000    0.295572    0.067149   0.171071 -0.055307   \n",
       "curbweight         0.295572    1.000000    0.850594   0.648480  0.168790   \n",
       "enginesize         0.067149    0.850594    1.000000   0.583774  0.203129   \n",
       "boreratio          0.171071    0.648480    0.583774   1.000000 -0.055909   \n",
       "stroke            -0.055307    0.168790    0.203129  -0.055909  1.000000   \n",
       "compressionratio   0.261214    0.151362    0.028971   0.005197  0.186110   \n",
       "horsepower        -0.108802    0.750739    0.809769   0.573677  0.080940   \n",
       "peakrpm           -0.320411   -0.266243   -0.244660  -0.254976 -0.067964   \n",
       "citympg           -0.048640   -0.757414   -0.653658  -0.584532 -0.042145   \n",
       "highwaympg        -0.107358   -0.797465   -0.677470  -0.587012 -0.043931   \n",
       "price              0.119336    0.835305    0.874145   0.553173  0.079443   \n",
       "\n",
       "                  compressionratio  horsepower   peakrpm   citympg  \\\n",
       "car_ID                    0.150276   -0.015006 -0.203789  0.015940   \n",
       "symboling                -0.178515    0.070873  0.273606 -0.035823   \n",
       "wheelbase                 0.249786    0.353294 -0.360469 -0.470414   \n",
       "carlength                 0.158414    0.552623 -0.287242 -0.670909   \n",
       "carwidth                  0.181129    0.640732 -0.220012 -0.642704   \n",
       "carheight                 0.261214   -0.108802 -0.320411 -0.048640   \n",
       "curbweight                0.151362    0.750739 -0.266243 -0.757414   \n",
       "enginesize                0.028971    0.809769 -0.244660 -0.653658   \n",
       "boreratio                 0.005197    0.573677 -0.254976 -0.584532   \n",
       "stroke                    0.186110    0.080940 -0.067964 -0.042145   \n",
       "compressionratio          1.000000   -0.204326 -0.435741  0.324701   \n",
       "horsepower               -0.204326    1.000000  0.131073 -0.801456   \n",
       "peakrpm                  -0.435741    0.131073  1.000000 -0.113544   \n",
       "citympg                   0.324701   -0.801456 -0.113544  1.000000   \n",
       "highwaympg                0.265201   -0.770544 -0.054275  0.971337   \n",
       "price                     0.067984    0.808139 -0.085267 -0.685751   \n",
       "\n",
       "                  highwaympg     price  \n",
       "car_ID              0.011255 -0.109093  \n",
       "symboling           0.034606 -0.079978  \n",
       "wheelbase          -0.544082  0.577816  \n",
       "carlength          -0.704662  0.682920  \n",
       "carwidth           -0.677218  0.759325  \n",
       "carheight          -0.107358  0.119336  \n",
       "curbweight         -0.797465  0.835305  \n",
       "enginesize         -0.677470  0.874145  \n",
       "boreratio          -0.587012  0.553173  \n",
       "stroke             -0.043931  0.079443  \n",
       "compressionratio    0.265201  0.067984  \n",
       "horsepower         -0.770544  0.808139  \n",
       "peakrpm            -0.054275 -0.085267  \n",
       "citympg             0.971337 -0.685751  \n",
       "highwaympg          1.000000 -0.697599  \n",
       "price              -0.697599  1.000000  "
      ]
     },
     "execution_count": 33,
     "metadata": {},
     "output_type": "execute_result"
    }
   ],
   "source": [
    "data.corr()"
   ]
  },
  {
   "cell_type": "code",
   "execution_count": 34,
   "id": "b48733dc",
   "metadata": {},
   "outputs": [
    {
     "data": {
      "text/plain": [
       "<AxesSubplot:>"
      ]
     },
     "execution_count": 34,
     "metadata": {},
     "output_type": "execute_result"
    },
    {
     "data": {
      "image/png": "[encoded data removed]",
      "text/plain": [
       "<Figure size 1080x1080 with 2 Axes>"
      ]
     },
     "metadata": {
      "needs_background": "light"
     },
     "output_type": "display_data"
    }
   ],
   "source": [
    "plt.figure(figsize=(15,15))\n",
    "sns.heatmap(data.corr(), annot=True, cmap='viridis')"
   ]
  },
  {
   "cell_type": "markdown",
   "id": "390ca736",
   "metadata": {},
   "source": [
    "# MODEL BUILDING"
   ]
  },
  {
   "cell_type": "markdown",
   "id": "aa1d4266",
   "metadata": {},
   "source": [
    "## LABEL ENCODING \n",
    "__FOR REPALCING OBJECT DATATYPE TO INT DATATYPE__"
   ]
  },
  {
   "cell_type": "code",
   "execution_count": 35,
   "id": "00419c66",
   "metadata": {},
   "outputs": [],
   "source": [
    "labelencoder= LabelEncoder()"
   ]
  },
  {
   "cell_type": "code",
   "execution_count": 36,
   "id": "c2162561",
   "metadata": {},
   "outputs": [],
   "source": [
    "data['fueltype']=labelencoder.fit_transform(data[\"fueltype\"])\n",
    "data['aspiration'] = labelencoder.fit_transform(data['aspiration'])\n",
    "data['carbody'] = labelencoder.fit_transform(data['carbody'])\n",
    "data['drivewheel'] = labelencoder.fit_transform(data['drivewheel'])\n",
    "data['enginelocation'] = labelencoder.fit_transform(data['enginelocation'])\n",
    "data['fuelsystem'] = labelencoder.fit_transform(data['enginelocation'])"
   ]
  },
  {
   "cell_type": "code",
   "execution_count": 37,
   "id": "e2ac8822",
   "metadata": {},
   "outputs": [
    {
     "data": {
      "text/html": [
       "<div>\n",
       "<style scoped>\n",
       "    .dataframe tbody tr th:only-of-type {\n",
       "        vertical-align: middle;\n",
       "    }\n",
       "\n",
       "    .dataframe tbody tr th {\n",
       "        vertical-align: top;\n",
       "    }\n",
       "\n",
       "    .dataframe thead th {\n",
       "        text-align: right;\n",
       "    }\n",
       "</style>\n",
       "<table border=\"1\" class=\"dataframe\">\n",
       "  <thead>\n",
       "    <tr style=\"text-align: right;\">\n",
       "      <th></th>\n",
       "      <th>car_ID</th>\n",
       "      <th>symboling</th>\n",
       "      <th>fueltype</th>\n",
       "      <th>aspiration</th>\n",
       "      <th>doornumber</th>\n",
       "      <th>carbody</th>\n",
       "      <th>drivewheel</th>\n",
       "      <th>enginelocation</th>\n",
       "      <th>wheelbase</th>\n",
       "      <th>carlength</th>\n",
       "      <th>...</th>\n",
       "      <th>fuelsystem</th>\n",
       "      <th>boreratio</th>\n",
       "      <th>stroke</th>\n",
       "      <th>compressionratio</th>\n",
       "      <th>horsepower</th>\n",
       "      <th>peakrpm</th>\n",
       "      <th>citympg</th>\n",
       "      <th>highwaympg</th>\n",
       "      <th>price</th>\n",
       "      <th>Company_name</th>\n",
       "    </tr>\n",
       "  </thead>\n",
       "  <tbody>\n",
       "    <tr>\n",
       "      <th>0</th>\n",
       "      <td>1</td>\n",
       "      <td>3</td>\n",
       "      <td>1</td>\n",
       "      <td>0</td>\n",
       "      <td>two</td>\n",
       "      <td>0</td>\n",
       "      <td>2</td>\n",
       "      <td>0</td>\n",
       "      <td>88.6</td>\n",
       "      <td>168.8</td>\n",
       "      <td>...</td>\n",
       "      <td>0</td>\n",
       "      <td>3.47</td>\n",
       "      <td>2.68</td>\n",
       "      <td>9.0</td>\n",
       "      <td>111</td>\n",
       "      <td>5000</td>\n",
       "      <td>21</td>\n",
       "      <td>27</td>\n",
       "      <td>13495.0</td>\n",
       "      <td>alfa-romero</td>\n",
       "    </tr>\n",
       "    <tr>\n",
       "      <th>1</th>\n",
       "      <td>2</td>\n",
       "      <td>3</td>\n",
       "      <td>1</td>\n",
       "      <td>0</td>\n",
       "      <td>two</td>\n",
       "      <td>0</td>\n",
       "      <td>2</td>\n",
       "      <td>0</td>\n",
       "      <td>88.6</td>\n",
       "      <td>168.8</td>\n",
       "      <td>...</td>\n",
       "      <td>0</td>\n",
       "      <td>3.47</td>\n",
       "      <td>2.68</td>\n",
       "      <td>9.0</td>\n",
       "      <td>111</td>\n",
       "      <td>5000</td>\n",
       "      <td>21</td>\n",
       "      <td>27</td>\n",
       "      <td>16500.0</td>\n",
       "      <td>alfa-romero</td>\n",
       "    </tr>\n",
       "    <tr>\n",
       "      <th>2</th>\n",
       "      <td>3</td>\n",
       "      <td>1</td>\n",
       "      <td>1</td>\n",
       "      <td>0</td>\n",
       "      <td>two</td>\n",
       "      <td>2</td>\n",
       "      <td>2</td>\n",
       "      <td>0</td>\n",
       "      <td>94.5</td>\n",
       "      <td>171.2</td>\n",
       "      <td>...</td>\n",
       "      <td>0</td>\n",
       "      <td>2.68</td>\n",
       "      <td>3.47</td>\n",
       "      <td>9.0</td>\n",
       "      <td>154</td>\n",
       "      <td>5000</td>\n",
       "      <td>19</td>\n",
       "      <td>26</td>\n",
       "      <td>16500.0</td>\n",
       "      <td>alfa-romero</td>\n",
       "    </tr>\n",
       "    <tr>\n",
       "      <th>3</th>\n",
       "      <td>4</td>\n",
       "      <td>2</td>\n",
       "      <td>1</td>\n",
       "      <td>0</td>\n",
       "      <td>four</td>\n",
       "      <td>3</td>\n",
       "      <td>1</td>\n",
       "      <td>0</td>\n",
       "      <td>99.8</td>\n",
       "      <td>176.6</td>\n",
       "      <td>...</td>\n",
       "      <td>0</td>\n",
       "      <td>3.19</td>\n",
       "      <td>3.40</td>\n",
       "      <td>10.0</td>\n",
       "      <td>102</td>\n",
       "      <td>5500</td>\n",
       "      <td>24</td>\n",
       "      <td>30</td>\n",
       "      <td>13950.0</td>\n",
       "      <td>audi</td>\n",
       "    </tr>\n",
       "    <tr>\n",
       "      <th>4</th>\n",
       "      <td>5</td>\n",
       "      <td>2</td>\n",
       "      <td>1</td>\n",
       "      <td>0</td>\n",
       "      <td>four</td>\n",
       "      <td>3</td>\n",
       "      <td>0</td>\n",
       "      <td>0</td>\n",
       "      <td>99.4</td>\n",
       "      <td>176.6</td>\n",
       "      <td>...</td>\n",
       "      <td>0</td>\n",
       "      <td>3.19</td>\n",
       "      <td>3.40</td>\n",
       "      <td>8.0</td>\n",
       "      <td>115</td>\n",
       "      <td>5500</td>\n",
       "      <td>18</td>\n",
       "      <td>22</td>\n",
       "      <td>17450.0</td>\n",
       "      <td>audi</td>\n",
       "    </tr>\n",
       "  </tbody>\n",
       "</table>\n",
       "<p>5 rows × 26 columns</p>\n",
       "</div>"
      ],
      "text/plain": [
       "   car_ID  symboling  fueltype  aspiration doornumber  carbody  drivewheel  \\\n",
       "0       1          3         1           0        two        0           2   \n",
       "1       2          3         1           0        two        0           2   \n",
       "2       3          1         1           0        two        2           2   \n",
       "3       4          2         1           0       four        3           1   \n",
       "4       5          2         1           0       four        3           0   \n",
       "\n",
       "   enginelocation  wheelbase  carlength  ...  fuelsystem  boreratio  stroke  \\\n",
       "0               0       88.6      168.8  ...           0       3.47    2.68   \n",
       "1               0       88.6      168.8  ...           0       3.47    2.68   \n",
       "2               0       94.5      171.2  ...           0       2.68    3.47   \n",
       "3               0       99.8      176.6  ...           0       3.19    3.40   \n",
       "4               0       99.4      176.6  ...           0       3.19    3.40   \n",
       "\n",
       "  compressionratio horsepower  peakrpm  citympg  highwaympg    price  \\\n",
       "0              9.0        111     5000       21          27  13495.0   \n",
       "1              9.0        111     5000       21          27  16500.0   \n",
       "2              9.0        154     5000       19          26  16500.0   \n",
       "3             10.0        102     5500       24          30  13950.0   \n",
       "4              8.0        115     5500       18          22  17450.0   \n",
       "\n",
       "   Company_name  \n",
       "0   alfa-romero  \n",
       "1   alfa-romero  \n",
       "2   alfa-romero  \n",
       "3          audi  \n",
       "4          audi  \n",
       "\n",
       "[5 rows x 26 columns]"
      ]
     },
     "execution_count": 37,
     "metadata": {},
     "output_type": "execute_result"
    }
   ],
   "source": [
    "data.head()"
   ]
  },
  {
   "cell_type": "code",
   "execution_count": 38,
   "id": "cd450f8f",
   "metadata": {},
   "outputs": [
    {
     "data": {
      "text/plain": [
       "car_ID                int64\n",
       "symboling             int64\n",
       "fueltype              int32\n",
       "aspiration            int32\n",
       "doornumber           object\n",
       "carbody               int32\n",
       "drivewheel            int32\n",
       "enginelocation        int32\n",
       "wheelbase           float64\n",
       "carlength           float64\n",
       "carwidth            float64\n",
       "carheight           float64\n",
       "curbweight            int64\n",
       "enginetype           object\n",
       "cylindernumber       object\n",
       "enginesize            int64\n",
       "fuelsystem            int64\n",
       "boreratio           float64\n",
       "stroke              float64\n",
       "compressionratio    float64\n",
       "horsepower            int64\n",
       "peakrpm               int64\n",
       "citympg               int64\n",
       "highwaympg            int64\n",
       "price               float64\n",
       "Company_name         object\n",
       "dtype: object"
      ]
     },
     "execution_count": 38,
     "metadata": {},
     "output_type": "execute_result"
    }
   ],
   "source": [
    "data.dtypes"
   ]
  },
  {
   "cell_type": "markdown",
   "id": "561ca15b",
   "metadata": {},
   "source": [
    "### ASSIGNING TRAIN AND TEST DATA"
   ]
  },
  {
   "cell_type": "code",
   "execution_count": 39,
   "id": "dfa6e036",
   "metadata": {},
   "outputs": [],
   "source": [
    "X = data[['wheelbase', 'fueltype','carlength', 'carwidth', 'curbweight', 'enginesize', 'boreratio', 'horsepower','carbody']]"
   ]
  },
  {
   "cell_type": "code",
   "execution_count": 40,
   "id": "0f5f44b0",
   "metadata": {},
   "outputs": [],
   "source": [
    "Y=data[\"price\"]"
   ]
  },
  {
   "cell_type": "code",
   "execution_count": 41,
   "id": "4ec7653b",
   "metadata": {},
   "outputs": [
    {
     "data": {
      "text/html": [
       "<div>\n",
       "<style scoped>\n",
       "    .dataframe tbody tr th:only-of-type {\n",
       "        vertical-align: middle;\n",
       "    }\n",
       "\n",
       "    .dataframe tbody tr th {\n",
       "        vertical-align: top;\n",
       "    }\n",
       "\n",
       "    .dataframe thead th {\n",
       "        text-align: right;\n",
       "    }\n",
       "</style>\n",
       "<table border=\"1\" class=\"dataframe\">\n",
       "  <thead>\n",
       "    <tr style=\"text-align: right;\">\n",
       "      <th></th>\n",
       "      <th>wheelbase</th>\n",
       "      <th>fueltype</th>\n",
       "      <th>carlength</th>\n",
       "      <th>carwidth</th>\n",
       "      <th>curbweight</th>\n",
       "      <th>enginesize</th>\n",
       "      <th>boreratio</th>\n",
       "      <th>horsepower</th>\n",
       "      <th>carbody</th>\n",
       "    </tr>\n",
       "  </thead>\n",
       "  <tbody>\n",
       "    <tr>\n",
       "      <th>0</th>\n",
       "      <td>88.6</td>\n",
       "      <td>1</td>\n",
       "      <td>168.8</td>\n",
       "      <td>64.1</td>\n",
       "      <td>2548</td>\n",
       "      <td>130</td>\n",
       "      <td>3.47</td>\n",
       "      <td>111</td>\n",
       "      <td>0</td>\n",
       "    </tr>\n",
       "    <tr>\n",
       "      <th>1</th>\n",
       "      <td>88.6</td>\n",
       "      <td>1</td>\n",
       "      <td>168.8</td>\n",
       "      <td>64.1</td>\n",
       "      <td>2548</td>\n",
       "      <td>130</td>\n",
       "      <td>3.47</td>\n",
       "      <td>111</td>\n",
       "      <td>0</td>\n",
       "    </tr>\n",
       "    <tr>\n",
       "      <th>2</th>\n",
       "      <td>94.5</td>\n",
       "      <td>1</td>\n",
       "      <td>171.2</td>\n",
       "      <td>65.5</td>\n",
       "      <td>2823</td>\n",
       "      <td>152</td>\n",
       "      <td>2.68</td>\n",
       "      <td>154</td>\n",
       "      <td>2</td>\n",
       "    </tr>\n",
       "    <tr>\n",
       "      <th>3</th>\n",
       "      <td>99.8</td>\n",
       "      <td>1</td>\n",
       "      <td>176.6</td>\n",
       "      <td>66.2</td>\n",
       "      <td>2337</td>\n",
       "      <td>109</td>\n",
       "      <td>3.19</td>\n",
       "      <td>102</td>\n",
       "      <td>3</td>\n",
       "    </tr>\n",
       "    <tr>\n",
       "      <th>4</th>\n",
       "      <td>99.4</td>\n",
       "      <td>1</td>\n",
       "      <td>176.6</td>\n",
       "      <td>66.4</td>\n",
       "      <td>2824</td>\n",
       "      <td>136</td>\n",
       "      <td>3.19</td>\n",
       "      <td>115</td>\n",
       "      <td>3</td>\n",
       "    </tr>\n",
       "    <tr>\n",
       "      <th>...</th>\n",
       "      <td>...</td>\n",
       "      <td>...</td>\n",
       "      <td>...</td>\n",
       "      <td>...</td>\n",
       "      <td>...</td>\n",
       "      <td>...</td>\n",
       "      <td>...</td>\n",
       "      <td>...</td>\n",
       "      <td>...</td>\n",
       "    </tr>\n",
       "    <tr>\n",
       "      <th>200</th>\n",
       "      <td>109.1</td>\n",
       "      <td>1</td>\n",
       "      <td>188.8</td>\n",
       "      <td>68.9</td>\n",
       "      <td>2952</td>\n",
       "      <td>141</td>\n",
       "      <td>3.78</td>\n",
       "      <td>114</td>\n",
       "      <td>3</td>\n",
       "    </tr>\n",
       "    <tr>\n",
       "      <th>201</th>\n",
       "      <td>109.1</td>\n",
       "      <td>1</td>\n",
       "      <td>188.8</td>\n",
       "      <td>68.8</td>\n",
       "      <td>3049</td>\n",
       "      <td>141</td>\n",
       "      <td>3.78</td>\n",
       "      <td>160</td>\n",
       "      <td>3</td>\n",
       "    </tr>\n",
       "    <tr>\n",
       "      <th>202</th>\n",
       "      <td>109.1</td>\n",
       "      <td>1</td>\n",
       "      <td>188.8</td>\n",
       "      <td>68.9</td>\n",
       "      <td>3012</td>\n",
       "      <td>173</td>\n",
       "      <td>3.58</td>\n",
       "      <td>134</td>\n",
       "      <td>3</td>\n",
       "    </tr>\n",
       "    <tr>\n",
       "      <th>203</th>\n",
       "      <td>109.1</td>\n",
       "      <td>0</td>\n",
       "      <td>188.8</td>\n",
       "      <td>68.9</td>\n",
       "      <td>3217</td>\n",
       "      <td>145</td>\n",
       "      <td>3.01</td>\n",
       "      <td>106</td>\n",
       "      <td>3</td>\n",
       "    </tr>\n",
       "    <tr>\n",
       "      <th>204</th>\n",
       "      <td>109.1</td>\n",
       "      <td>1</td>\n",
       "      <td>188.8</td>\n",
       "      <td>68.9</td>\n",
       "      <td>3062</td>\n",
       "      <td>141</td>\n",
       "      <td>3.78</td>\n",
       "      <td>114</td>\n",
       "      <td>3</td>\n",
       "    </tr>\n",
       "  </tbody>\n",
       "</table>\n",
       "<p>205 rows × 9 columns</p>\n",
       "</div>"
      ],
      "text/plain": [
       "     wheelbase  fueltype  carlength  carwidth  curbweight  enginesize  \\\n",
       "0         88.6         1      168.8      64.1        2548         130   \n",
       "1         88.6         1      168.8      64.1        2548         130   \n",
       "2         94.5         1      171.2      65.5        2823         152   \n",
       "3         99.8         1      176.6      66.2        2337         109   \n",
       "4         99.4         1      176.6      66.4        2824         136   \n",
       "..         ...       ...        ...       ...         ...         ...   \n",
       "200      109.1         1      188.8      68.9        2952         141   \n",
       "201      109.1         1      188.8      68.8        3049         141   \n",
       "202      109.1         1      188.8      68.9        3012         173   \n",
       "203      109.1         0      188.8      68.9        3217         145   \n",
       "204      109.1         1      188.8      68.9        3062         141   \n",
       "\n",
       "     boreratio  horsepower  carbody  \n",
       "0         3.47         111        0  \n",
       "1         3.47         111        0  \n",
       "2         2.68         154        2  \n",
       "3         3.19         102        3  \n",
       "4         3.19         115        3  \n",
       "..         ...         ...      ...  \n",
       "200       3.78         114        3  \n",
       "201       3.78         160        3  \n",
       "202       3.58         134        3  \n",
       "203       3.01         106        3  \n",
       "204       3.78         114        3  \n",
       "\n",
       "[205 rows x 9 columns]"
      ]
     },
     "execution_count": 41,
     "metadata": {},
     "output_type": "execute_result"
    }
   ],
   "source": [
    "X"
   ]
  },
  {
   "cell_type": "code",
   "execution_count": 42,
   "id": "5ccb67e7",
   "metadata": {},
   "outputs": [
    {
     "data": {
      "text/plain": [
       "0      13495.0\n",
       "1      16500.0\n",
       "2      16500.0\n",
       "3      13950.0\n",
       "4      17450.0\n",
       "        ...   \n",
       "200    16845.0\n",
       "201    19045.0\n",
       "202    21485.0\n",
       "203    22470.0\n",
       "204    22625.0\n",
       "Name: price, Length: 205, dtype: float64"
      ]
     },
     "execution_count": 42,
     "metadata": {},
     "output_type": "execute_result"
    }
   ],
   "source": [
    "Y"
   ]
  },
  {
   "cell_type": "markdown",
   "id": "83cc4cba",
   "metadata": {},
   "source": [
    "### FOR ACCURACY USING MIN MAX SCALER"
   ]
  },
  {
   "cell_type": "code",
   "execution_count": 43,
   "id": "e9cc41fe",
   "metadata": {},
   "outputs": [],
   "source": [
    "scalea= MinMaxScaler()"
   ]
  },
  {
   "cell_type": "code",
   "execution_count": 44,
   "id": "50c06576",
   "metadata": {},
   "outputs": [],
   "source": [
    "X=scalea.fit_transform(X)"
   ]
  },
  {
   "cell_type": "code",
   "execution_count": 45,
   "id": "7c934e8e",
   "metadata": {},
   "outputs": [
    {
     "data": {
      "text/plain": [
       "array([[0.05830904, 1.        , 0.41343284, ..., 0.66428571, 0.2625    ,\n",
       "        0.        ],\n",
       "       [0.05830904, 1.        , 0.41343284, ..., 0.66428571, 0.2625    ,\n",
       "        0.        ],\n",
       "       [0.2303207 , 1.        , 0.44925373, ..., 0.1       , 0.44166667,\n",
       "        0.5       ],\n",
       "       ...,\n",
       "       [0.65597668, 1.        , 0.7119403 , ..., 0.74285714, 0.35833333,\n",
       "        0.75      ],\n",
       "       [0.65597668, 0.        , 0.7119403 , ..., 0.33571429, 0.24166667,\n",
       "        0.75      ],\n",
       "       [0.65597668, 1.        , 0.7119403 , ..., 0.88571429, 0.275     ,\n",
       "        0.75      ]])"
      ]
     },
     "execution_count": 45,
     "metadata": {},
     "output_type": "execute_result"
    }
   ],
   "source": [
    "X"
   ]
  },
  {
   "cell_type": "markdown",
   "id": "ac6be709",
   "metadata": {},
   "source": [
    "## TRANING MODEL USING LINEAR REGRESSION"
   ]
  },
  {
   "cell_type": "markdown",
   "id": "ee695c0a",
   "metadata": {},
   "source": [
    "# Linear Regression\n",
    "**Our data contains only one independent variable ($X$)</strong> which represents the <em>date</em> and the <strong>dependent variable ($Y$)</strong> we are trying to predict is the <em>Stock Price</em>. To fit a line to the data points, which then represents an estimated relationship between $X$ and $Y$, we can use a Simple Linear Regression.\n",
    "\n",
    "The best fit line can be described with\n",
    "$$\n",
    "Y = \\beta_0 + \\beta_1 X\n",
    "$$\n",
    "\n",
    "where\n",
    "\n",
    "* $Y$ is the predicted value of the dependent variable\n",
    "* $\\beta_0$ is the y-intercept\n",
    "* $\\beta_1$ is the slope\n",
    "* $X$ is the value of the independent variable\n",
    "\n",
    "The goal is to find such coefficients $\\beta_0$ and $\\beta_1$ that the Sum of Squared Errors, which represents the difference between each point in the dataset with it’s corresponding predicted value outputted by the model, is minimal."
   ]
  },
  {
   "cell_type": "code",
   "execution_count": 46,
   "id": "fc0d5c43",
   "metadata": {},
   "outputs": [],
   "source": [
    "model=LinearRegression()"
   ]
  },
  {
   "cell_type": "code",
   "execution_count": 47,
   "id": "dbe6302f",
   "metadata": {},
   "outputs": [],
   "source": [
    "X_train, X_test, Y_train, Y_test = train_test_split(X, Y, test_size=0.3, random_state=101)"
   ]
  },
  {
   "cell_type": "code",
   "execution_count": 48,
   "id": "5f248608",
   "metadata": {},
   "outputs": [
    {
     "data": {
      "text/plain": [
       "LinearRegression()"
      ]
     },
     "execution_count": 48,
     "metadata": {},
     "output_type": "execute_result"
    }
   ],
   "source": [
    "model.fit(X_train, Y_train)"
   ]
  },
  {
   "cell_type": "code",
   "execution_count": 49,
   "id": "97cae75c",
   "metadata": {},
   "outputs": [
    {
     "data": {
      "text/plain": [
       "array([6.73373942e+03, 9.40302467e+03, 2.14816363e+04, 9.80242405e+03,\n",
       "       1.50652630e+04, 2.14998489e+04, 1.29534759e+04, 5.70013743e+03,\n",
       "       1.05634129e+04, 7.46166739e+03, 1.04693507e+04, 1.44002061e+04,\n",
       "       7.20804918e+03, 6.47805029e+03, 9.45071028e+03, 1.34533941e+04,\n",
       "       1.00313393e+04, 1.18449028e+04, 6.07782740e+03, 5.74460198e+03,\n",
       "       1.08637019e+04, 1.09989696e+04, 4.68789536e+03, 5.61255579e+03,\n",
       "       1.60950216e+04, 3.16248806e+04, 6.68632779e+03, 8.27663889e+03,\n",
       "       8.83383665e+03, 8.13586629e+03, 5.49774423e+03, 9.16606562e+03,\n",
       "       2.02816855e+04, 2.02499109e+04, 1.60929911e+04, 1.41603370e+04,\n",
       "       5.82586479e+03, 6.59421273e+03, 1.05880032e+04, 9.64427318e+03,\n",
       "       5.32713423e+03, 4.70322796e+03, 3.75292970e+04, 2.31930231e+04,\n",
       "       6.65860966e+03, 2.58329401e+04, 5.79519958e+03, 6.95623353e+03,\n",
       "       1.69642047e+04, 1.69540806e+04, 4.06073182e+00, 1.19805199e+04,\n",
       "       6.43205247e+03, 1.50410835e+04, 2.49548524e+04, 1.41706336e+04,\n",
       "       6.59035601e+03, 1.63081448e+04, 1.33170201e+04, 2.06635047e+04,\n",
       "       9.54636581e+03, 5.54762995e+03])"
      ]
     },
     "execution_count": 49,
     "metadata": {},
     "output_type": "execute_result"
    }
   ],
   "source": [
    "model.predict(X_test)"
   ]
  },
  {
   "cell_type": "markdown",
   "id": "20586d11",
   "metadata": {},
   "source": [
    "### ACCURACY SCORE WITH LESS NO. OF FEATURE"
   ]
  },
  {
   "cell_type": "code",
   "execution_count": 50,
   "id": "8583c2f5",
   "metadata": {
    "scrolled": true
   },
   "outputs": [
    {
     "ename": "NameError",
     "evalue": "name 'y_test' is not defined",
     "output_type": "error",
     "traceback": [
      "\u001b[1;31m---------------------------------------------------------------------------\u001b[0m",
      "\u001b[1;31mNameError\u001b[0m                                 Traceback (most recent call last)",
      "\u001b[1;32m<ipython-input-50-91dd9a14acc2>\u001b[0m in \u001b[0;36m<module>\u001b[1;34m\u001b[0m\n\u001b[1;32m----> 1\u001b[1;33m \u001b[0mr2_score\u001b[0m\u001b[1;33m(\u001b[0m\u001b[0my_test\u001b[0m\u001b[1;33m,\u001b[0m \u001b[0mmodel\u001b[0m\u001b[1;33m.\u001b[0m\u001b[0mpredict\u001b[0m\u001b[1;33m(\u001b[0m\u001b[0mX_test\u001b[0m\u001b[1;33m)\u001b[0m\u001b[1;33m)\u001b[0m\u001b[1;33m\u001b[0m\u001b[1;33m\u001b[0m\u001b[0m\n\u001b[0m",
      "\u001b[1;31mNameError\u001b[0m: name 'y_test' is not defined"
     ]
    }
   ],
   "source": [
    "r2_score(y_test, model.predict(X_test))"
   ]
  },
  {
   "cell_type": "markdown",
   "id": "3df10cef",
   "metadata": {},
   "source": [
    "## TRANING MODEL WITH MORE NO. OF FEATURE"
   ]
  },
  {
   "cell_type": "code",
   "execution_count": null,
   "id": "da2e39c6",
   "metadata": {},
   "outputs": [],
   "source": [
    "X_train.shape[0]"
   ]
  },
  {
   "cell_type": "code",
   "execution_count": null,
   "id": "4e908434",
   "metadata": {},
   "outputs": [],
   "source": [
    "data.head()"
   ]
  },
  {
   "cell_type": "code",
   "execution_count": null,
   "id": "08f7aafa",
   "metadata": {},
   "outputs": [],
   "source": [
    "X1 = data.drop(columns=['CarName', 'price', 'doornumber', 'enginetype', 'cylindernumber'])"
   ]
  },
  {
   "cell_type": "code",
   "execution_count": null,
   "id": "6ad2ce9f",
   "metadata": {},
   "outputs": [],
   "source": [
    "X1"
   ]
  },
  {
   "cell_type": "code",
   "execution_count": null,
   "id": "4483ecb0",
   "metadata": {},
   "outputs": [],
   "source": [
    "scalea= MinMaxScaler()"
   ]
  },
  {
   "cell_type": "code",
   "execution_count": null,
   "id": "57044545",
   "metadata": {},
   "outputs": [],
   "source": [
    "X1=scalea.fit_transform(X1)"
   ]
  },
  {
   "cell_type": "code",
   "execution_count": null,
   "id": "c06c4de9",
   "metadata": {},
   "outputs": [],
   "source": [
    "X1_train, X1_test, y_train, y_test = train_test_split(X1, y, test_size=0.3, random_state=42)"
   ]
  },
  {
   "cell_type": "code",
   "execution_count": null,
   "id": "074d6f68",
   "metadata": {},
   "outputs": [],
   "source": [
    "model.fit(X1_train, y_train)"
   ]
  },
  {
   "cell_type": "code",
   "execution_count": null,
   "id": "11554d4b",
   "metadata": {},
   "outputs": [],
   "source": [
    "y_pred=model.predict(X1_test)\n",
    "y_pred"
   ]
  },
  {
   "cell_type": "markdown",
   "id": "e266e03f",
   "metadata": {},
   "source": [
    "## Accuracy Evaluation Metrics\n",
    "To see how accurate our model is, we can calculate the **Coefficient of determination**, which describes the ratio between the total error and the error, that is explained by our model. It's value is between 0 and 1, with 1 meaning 100% of the error is acoounted for by the model.\n",
    "\n",
    "**Coefficient of determination**$$\n",
    "R^2 = 1 - \\frac{RSS}{TSS}\n",
    "$$\n",
    "\n",
    "with\n",
    "\n",
    "**Residual Sum of Squares (RSS)**$$\n",
    "RSS = \\sum_{i = 1}^{N} \\epsilon_i^2 = \\sum_{i = 1}^{N} (y_i - \\hat{y}_i)^2\n",
    "$$\n",
    "\n",
    "**Total Sum of Squares (TSS)**$$\n",
    "TSS = \\sum_{i = 1}^{N} (y_i - \\bar{y}_i)^2\n",
    "$$"
   ]
  },
  {
   "cell_type": "markdown",
   "id": "66e00636",
   "metadata": {},
   "source": [
    "### ACCURACY SCORE INCREASES TO 85%"
   ]
  },
  {
   "cell_type": "code",
   "execution_count": null,
   "id": "d534dc95",
   "metadata": {},
   "outputs": [],
   "source": [
    "r2_score(y_test, model.predict(X1_test))"
   ]
  },
  {
   "cell_type": "markdown",
   "id": "0051908e",
   "metadata": {},
   "source": [
    "### PLOTING ACTUAL DATA AND PREDICTED DATA"
   ]
  },
  {
   "cell_type": "code",
   "execution_count": null,
   "id": "c07aaa52",
   "metadata": {
    "scrolled": true
   },
   "outputs": [],
   "source": [
    "plt.figure(figsize=(10,7), dpi=100)\n",
    "sns.scatterplot(x=range(len(y_test)), y=y_test, color='blue', label='Test Value')\n",
    "sns.scatterplot(x=range(len(y_pred)), y=y_pred, color='red', label='Predicted Value')"
   ]
  },
  {
   "cell_type": "markdown",
   "id": "f0f15acc",
   "metadata": {},
   "source": [
    "\n",
    "<img src=\"https://i.imgur.com/9SJHwJr.png\" width=\"400\" height=\"200\">"
   ]
  },
  {
   "cell_type": "markdown",
   "id": "8fde99fc",
   "metadata": {},
   "source": [
    "# THE END!"
   ]
  },
  {
   "cell_type": "code",
   "execution_count": null,
   "id": "39a39462",
   "metadata": {},
   "outputs": [],
   "source": []
  }
 ],
 "metadata": {
  "kernelspec": {
   "display_name": "Python 3",
   "language": "python",
   "name": "python3"
  },
  "language_info": {
   "codemirror_mode": {
    "name": "ipython",
    "version": 3
   },
   "file_extension": ".py",
   "mimetype": "text/x-python",
   "name": "python",
   "nbconvert_exporter": "python",
   "pygments_lexer": "ipython3",
   "version": "3.8.8"
  }
 },
 "nbformat": 4,
 "nbformat_minor": 5
}
